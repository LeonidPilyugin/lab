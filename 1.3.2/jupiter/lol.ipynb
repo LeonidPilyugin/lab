{
 "cells": [
  {
   "cell_type": "code",
   "execution_count": 31,
   "id": "8688ec08",
   "metadata": {},
   "outputs": [
    {
     "name": "stdout",
     "output_type": "stream",
     "text": [
      "Set up\n"
     ]
    }
   ],
   "source": [
    "import pandas as pd\n",
    "import numpy as np\n",
    "import matplotlib.pyplot as plt\n",
    "import math\n",
    "print(\"Set up\")"
   ]
  },
  {
   "cell_type": "code",
   "execution_count": 32,
   "id": "d0e1796d",
   "metadata": {},
   "outputs": [],
   "source": [
    "d = 1.06e-3\n",
    "d_err = 5e-6\n",
    "l = 1.71\n",
    "l_err = 5e-3\n",
    "m = 204.4e-3\n",
    "m_err = 0.1e-3\n",
    "b = 41e-3\n",
    "b_err = 5e-5\n",
    "rs = [70e-3, 85e-3, 100e-3, 115e-3, 130e-3]\n",
    "r_err = 5e-4"
   ]
  },
  {
   "cell_type": "code",
   "execution_count": 33,
   "id": "648be903",
   "metadata": {},
   "outputs": [
    {
     "data": {
      "text/plain": [
       "[0.008190250000000001,\n",
       " 0.011130250000000003,\n",
       " 0.014520250000000002,\n",
       " 0.01836025,\n",
       " 0.022650249999999997]"
      ]
     },
     "execution_count": 33,
     "metadata": {},
     "output_type": "execute_result"
    }
   ],
   "source": [
    "list([(r+b/2)**2 for r in rs])"
   ]
  },
  {
   "cell_type": "code",
   "execution_count": 34,
   "id": "6ce271f8",
   "metadata": {},
   "outputs": [
    {
     "data": {
      "text/html": [
       "<div>\n",
       "<style scoped>\n",
       "    .dataframe tbody tr th:only-of-type {\n",
       "        vertical-align: middle;\n",
       "    }\n",
       "\n",
       "    .dataframe tbody tr th {\n",
       "        vertical-align: top;\n",
       "    }\n",
       "\n",
       "    .dataframe thead th {\n",
       "        text-align: right;\n",
       "    }\n",
       "</style>\n",
       "<table border=\"1\" class=\"dataframe\">\n",
       "  <thead>\n",
       "    <tr style=\"text-align: right;\">\n",
       "      <th></th>\n",
       "      <th>n</th>\n",
       "      <th>70</th>\n",
       "      <th>85</th>\n",
       "      <th>100</th>\n",
       "      <th>115</th>\n",
       "      <th>130</th>\n",
       "    </tr>\n",
       "  </thead>\n",
       "  <tbody>\n",
       "    <tr>\n",
       "      <th>0</th>\n",
       "      <td>1</td>\n",
       "      <td>2.78</td>\n",
       "      <td>3.19</td>\n",
       "      <td>3.44</td>\n",
       "      <td>3.80</td>\n",
       "      <td>4.20</td>\n",
       "    </tr>\n",
       "    <tr>\n",
       "      <th>1</th>\n",
       "      <td>2</td>\n",
       "      <td>5.55</td>\n",
       "      <td>6.30</td>\n",
       "      <td>6.89</td>\n",
       "      <td>7.53</td>\n",
       "      <td>8.45</td>\n",
       "    </tr>\n",
       "    <tr>\n",
       "      <th>2</th>\n",
       "      <td>3</td>\n",
       "      <td>8.20</td>\n",
       "      <td>9.35</td>\n",
       "      <td>10.31</td>\n",
       "      <td>11.34</td>\n",
       "      <td>12.59</td>\n",
       "    </tr>\n",
       "    <tr>\n",
       "      <th>3</th>\n",
       "      <td>4</td>\n",
       "      <td>10.90</td>\n",
       "      <td>12.42</td>\n",
       "      <td>13.76</td>\n",
       "      <td>15.07</td>\n",
       "      <td>16.81</td>\n",
       "    </tr>\n",
       "    <tr>\n",
       "      <th>4</th>\n",
       "      <td>5</td>\n",
       "      <td>13.69</td>\n",
       "      <td>15.59</td>\n",
       "      <td>17.20</td>\n",
       "      <td>18.88</td>\n",
       "      <td>21.04</td>\n",
       "    </tr>\n",
       "    <tr>\n",
       "      <th>5</th>\n",
       "      <td>6</td>\n",
       "      <td>16.50</td>\n",
       "      <td>18.76</td>\n",
       "      <td>20.63</td>\n",
       "      <td>22.60</td>\n",
       "      <td>25.18</td>\n",
       "    </tr>\n",
       "    <tr>\n",
       "      <th>6</th>\n",
       "      <td>7</td>\n",
       "      <td>19.31</td>\n",
       "      <td>21.83</td>\n",
       "      <td>24.08</td>\n",
       "      <td>26.42</td>\n",
       "      <td>29.42</td>\n",
       "    </tr>\n",
       "    <tr>\n",
       "      <th>7</th>\n",
       "      <td>8</td>\n",
       "      <td>22.11</td>\n",
       "      <td>24.88</td>\n",
       "      <td>27.52</td>\n",
       "      <td>30.14</td>\n",
       "      <td>33.63</td>\n",
       "    </tr>\n",
       "    <tr>\n",
       "      <th>8</th>\n",
       "      <td>9</td>\n",
       "      <td>24.91</td>\n",
       "      <td>27.99</td>\n",
       "      <td>30.95</td>\n",
       "      <td>33.96</td>\n",
       "      <td>37.78</td>\n",
       "    </tr>\n",
       "    <tr>\n",
       "      <th>9</th>\n",
       "      <td>10</td>\n",
       "      <td>27.70</td>\n",
       "      <td>31.18</td>\n",
       "      <td>34.40</td>\n",
       "      <td>37.96</td>\n",
       "      <td>42.03</td>\n",
       "    </tr>\n",
       "    <tr>\n",
       "      <th>10</th>\n",
       "      <td>11</td>\n",
       "      <td>30.48</td>\n",
       "      <td>34.31</td>\n",
       "      <td>37.84</td>\n",
       "      <td>41.50</td>\n",
       "      <td>46.23</td>\n",
       "    </tr>\n",
       "    <tr>\n",
       "      <th>11</th>\n",
       "      <td>12</td>\n",
       "      <td>33.25</td>\n",
       "      <td>37.36</td>\n",
       "      <td>41.27</td>\n",
       "      <td>45.24</td>\n",
       "      <td>50.38</td>\n",
       "    </tr>\n",
       "    <tr>\n",
       "      <th>12</th>\n",
       "      <td>13</td>\n",
       "      <td>36.02</td>\n",
       "      <td>40.43</td>\n",
       "      <td>44.72</td>\n",
       "      <td>49.03</td>\n",
       "      <td>54.64</td>\n",
       "    </tr>\n",
       "    <tr>\n",
       "      <th>13</th>\n",
       "      <td>14</td>\n",
       "      <td>38.80</td>\n",
       "      <td>43.58</td>\n",
       "      <td>48.16</td>\n",
       "      <td>52.78</td>\n",
       "      <td>58.81</td>\n",
       "    </tr>\n",
       "    <tr>\n",
       "      <th>14</th>\n",
       "      <td>15</td>\n",
       "      <td>41.58</td>\n",
       "      <td>46.76</td>\n",
       "      <td>51.59</td>\n",
       "      <td>56.57</td>\n",
       "      <td>62.99</td>\n",
       "    </tr>\n",
       "    <tr>\n",
       "      <th>15</th>\n",
       "      <td>16</td>\n",
       "      <td>44.38</td>\n",
       "      <td>49.84</td>\n",
       "      <td>55.04</td>\n",
       "      <td>60.32</td>\n",
       "      <td>67.25</td>\n",
       "    </tr>\n",
       "    <tr>\n",
       "      <th>16</th>\n",
       "      <td>17</td>\n",
       "      <td>47.19</td>\n",
       "      <td>52.89</td>\n",
       "      <td>58.48</td>\n",
       "      <td>64.10</td>\n",
       "      <td>71.40</td>\n",
       "    </tr>\n",
       "    <tr>\n",
       "      <th>17</th>\n",
       "      <td>18</td>\n",
       "      <td>50.00</td>\n",
       "      <td>55.99</td>\n",
       "      <td>61.92</td>\n",
       "      <td>67.87</td>\n",
       "      <td>75.60</td>\n",
       "    </tr>\n",
       "    <tr>\n",
       "      <th>18</th>\n",
       "      <td>19</td>\n",
       "      <td>52.80</td>\n",
       "      <td>59.18</td>\n",
       "      <td>65.37</td>\n",
       "      <td>71.63</td>\n",
       "      <td>79.85</td>\n",
       "    </tr>\n",
       "    <tr>\n",
       "      <th>19</th>\n",
       "      <td>20</td>\n",
       "      <td>55.60</td>\n",
       "      <td>62.31</td>\n",
       "      <td>68.80</td>\n",
       "      <td>75.41</td>\n",
       "      <td>82.98</td>\n",
       "    </tr>\n",
       "  </tbody>\n",
       "</table>\n",
       "</div>"
      ],
      "text/plain": [
       "     n     70     85    100    115    130\n",
       "0    1   2.78   3.19   3.44   3.80   4.20\n",
       "1    2   5.55   6.30   6.89   7.53   8.45\n",
       "2    3   8.20   9.35  10.31  11.34  12.59\n",
       "3    4  10.90  12.42  13.76  15.07  16.81\n",
       "4    5  13.69  15.59  17.20  18.88  21.04\n",
       "5    6  16.50  18.76  20.63  22.60  25.18\n",
       "6    7  19.31  21.83  24.08  26.42  29.42\n",
       "7    8  22.11  24.88  27.52  30.14  33.63\n",
       "8    9  24.91  27.99  30.95  33.96  37.78\n",
       "9   10  27.70  31.18  34.40  37.96  42.03\n",
       "10  11  30.48  34.31  37.84  41.50  46.23\n",
       "11  12  33.25  37.36  41.27  45.24  50.38\n",
       "12  13  36.02  40.43  44.72  49.03  54.64\n",
       "13  14  38.80  43.58  48.16  52.78  58.81\n",
       "14  15  41.58  46.76  51.59  56.57  62.99\n",
       "15  16  44.38  49.84  55.04  60.32  67.25\n",
       "16  17  47.19  52.89  58.48  64.10  71.40\n",
       "17  18  50.00  55.99  61.92  67.87  75.60\n",
       "18  19  52.80  59.18  65.37  71.63  79.85\n",
       "19  20  55.60  62.31  68.80  75.41  82.98"
      ]
     },
     "execution_count": 34,
     "metadata": {},
     "output_type": "execute_result"
    }
   ],
   "source": [
    "data = pd.read_csv(\"../data/lol.csv\")\n",
    "data"
   ]
  },
  {
   "cell_type": "code",
   "execution_count": 35,
   "id": "05440eb6",
   "metadata": {},
   "outputs": [
    {
     "name": "stdout",
     "output_type": "stream",
     "text": [
      "t70 = 2.7734216027874563 +/- 0.006444778708191963\n",
      "t85 = 3.114090592334495 +/- 0.006681048044314838\n",
      "t100 = 3.4399163763066207 +/- 0.005010864652737793\n",
      "t115 = 3.7715505226480834 +/- 0.005410186266163487\n",
      "t130 = 4.193951219512196 +/- 0.005974764358793127\n"
     ]
    },
    {
     "data": {
      "image/png": "[encoded data removed]",
      "text/plain": [
       "<Figure size 640x480 with 1 Axes>"
      ]
     },
     "metadata": {},
     "output_type": "display_data"
    }
   ],
   "source": [
    "ts = []\n",
    "t_errs = []\n",
    "\n",
    "for i in [\"70\", \"85\", \"100\", \"115\", \"130\"]:\n",
    "    plt.clf()\n",
    "    plt.title(\"Показания счётчика\")\n",
    "    plt.xlabel(\"$n$\")\n",
    "    plt.ylabel(\"$t_\" + \"{\" + f\"{i}\" + \"}\" + \"$, с\")\n",
    "    plt.grid(True)\n",
    "    plt.plot(data[\"n\"], data[i], \".\")\n",
    "    n = len(data[\"n\"])\n",
    "    t = np.mean(data[i] * data[\"n\"]) / np.mean(data[\"n\"]**2)\n",
    "    t_err = math.sqrt(1/n/(n-1)*sum([(x - t)**2 for x in data[i]/data[\"n\"]]))\n",
    "    t_err = math.sqrt(t_err**2+(5e-3)**2)\n",
    "    ts.append(t)\n",
    "    t_errs.append(t_err)\n",
    "    print(f\"t{i} = {t} +/- {t_err}\")\n",
    "    plt.axline((0, 0), (20, t*20))\n",
    "    plt.xticks(range(0, 21, 2), list(map(str, range(0, 21, 2))))\n",
    "    plt.yticks(range(0, int(20*t), 10), list(map(str, range(0, int(20*t), 10))))\n",
    "    plt.savefig(\"../img/\" + i + \".png\")"
   ]
  },
  {
   "cell_type": "code",
   "execution_count": 36,
   "id": "d9725ea0",
   "metadata": {},
   "outputs": [
    {
     "data": {
      "text/plain": [
       "[0.00245025, 0.00416025, 0.00632025, 0.00893025, 0.01199025]"
      ]
     },
     "execution_count": 36,
     "metadata": {},
     "output_type": "execute_result"
    }
   ],
   "source": [
    "xs"
   ]
  },
  {
   "cell_type": "code",
   "execution_count": 37,
   "id": "34707a92",
   "metadata": {},
   "outputs": [
    {
     "data": {
      "text/plain": [
       "[7.691867386808143,\n",
       " 9.697560217266204,\n",
       " 11.833024675982474,\n",
       " 14.224593344887031,\n",
       " 17.58922683164784]"
      ]
     },
     "execution_count": 37,
     "metadata": {},
     "output_type": "execute_result"
    }
   ],
   "source": [
    "ys"
   ]
  },
  {
   "cell_type": "code",
   "execution_count": 38,
   "id": "07f17dd2",
   "metadata": {},
   "outputs": [
    {
     "data": {
      "image/png": "[encoded data removed]",
      "text/plain": [
       "<Figure size 640x480 with 1 Axes>"
      ]
     },
     "metadata": {},
     "output_type": "display_data"
    }
   ],
   "source": [
    "xs = [(r+b/2)**2 for r in rs]\n",
    "ys = [t**2 for t in ts]\n",
    "k, b = np.polyfit(xs, ys, 1)\n",
    "n = 5\n",
    "k_err = math.sqrt(1/n/(n-1)*sum([(ys[i] - k*xs[i]+b)**2 for i in range(5)]))\n",
    "\n",
    "plt.grid(True)\n",
    "plt.xlabel(\"$(r+b/2)^2$, м$^2$\")\n",
    "plt.ylabel(\"$\\\\tau^2$, с$^2$\")\n",
    "plt.plot(xs, ys, \".\")\n",
    "plt.axline((5e-3, 5e-3*k+b), (10e-3, 10e-3*k+b))\n",
    "plt.savefig(\"../img/main.png\")"
   ]
  },
  {
   "cell_type": "code",
   "execution_count": 39,
   "id": "40959a61",
   "metadata": {},
   "outputs": [
    {
     "name": "stdout",
     "output_type": "stream",
     "text": [
      "k = 674.2644495069597 +/- 2.11486065609608\n",
      "0.023935381923906002\n"
     ]
    }
   ],
   "source": [
    "print(f\"k = {k} +/- {k_err}\")\n",
    "print(8*math.pi**2*m/k)"
   ]
  },
  {
   "cell_type": "code",
   "execution_count": 40,
   "id": "63e1a9a8",
   "metadata": {},
   "outputs": [
    {
     "name": "stdout",
     "output_type": "stream",
     "text": [
      "E = 3.302274e+11 +/- 6.320168e+09\n"
     ]
    }
   ],
   "source": [
    "def eee(m, l, k, d):\n",
    "    return 256*math.pi*m*l/k/d**4\n",
    "\n",
    "E = eee(m, l, k, d)\n",
    "E_err = math.sqrt((eee(m+m_err, l, k, d)-E)**2 + (eee(m, l+l_err, k, d)-E)**2 + (eee(m, l, k + k_err, d)-E)**2 + (eee(m, l, k, d + d_err)-E)**2)\n",
    "print(\"E = {:e} +/- {:e}\".format(E, E_err))"
   ]
  }
 ],
 "metadata": {
  "kernelspec": {
   "display_name": "Python 3 (ipykernel)",
   "language": "python",
   "name": "python3"
  },
  "language_info": {
   "codemirror_mode": {
    "name": "ipython",
    "version": 3
   },
   "file_extension": ".py",
   "mimetype": "text/x-python",
   "name": "python",
   "nbconvert_exporter": "python",
   "pygments_lexer": "ipython3",
   "version": "3.10.8"
  }
 },
 "nbformat": 4,
 "nbformat_minor": 5
}
