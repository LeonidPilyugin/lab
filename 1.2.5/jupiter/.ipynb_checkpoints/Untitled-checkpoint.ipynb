{
 "cells": [
  {
   "cell_type": "code",
   "execution_count": 55,
   "id": "dcbbf132",
   "metadata": {},
   "outputs": [
    {
     "name": "stdout",
     "output_type": "stream",
     "text": [
      "Set up\n"
     ]
    }
   ],
   "source": [
    "import pandas as pd\n",
    "import numpy as np\n",
    "import matplotlib.pyplot as plt\n",
    "from math import pi, log\n",
    "print(\"Set up\")"
   ]
  },
  {
   "cell_type": "code",
   "execution_count": 24,
   "id": "251060a8",
   "metadata": {},
   "outputs": [],
   "source": [
    "d=78.3e-3\n",
    "d_err=5e-5\n",
    "m=1616.7e-3\n",
    "m_err=1e-4\n",
    "l=121e-3\n",
    "T1=4.038\n",
    "T2=3.213\n",
    "T_err=0.05\n",
    "I=m*d**2/8*T2**2/T1**2\n",
    "I_err=I*(m_err/m+2*d_err/d+2*T_err/T1+2*T_err/T2)\n",
    "g=9.8154"
   ]
  },
  {
   "cell_type": "code",
   "execution_count": 96,
   "id": "c83c63a0",
   "metadata": {},
   "outputs": [
    {
     "data": {
      "text/plain": [
       "(0.0007844256699908666, 4.489055463763395e-05)"
      ]
     },
     "execution_count": 96,
     "metadata": {},
     "output_type": "execute_result"
    }
   ],
   "source": [
    "I, I_err"
   ]
  },
  {
   "cell_type": "code",
   "execution_count": 38,
   "id": "11b4ca48",
   "metadata": {},
   "outputs": [
    {
     "data": {
      "text/html": [
       "<div>\n",
       "<style scoped>\n",
       "    .dataframe tbody tr th:only-of-type {\n",
       "        vertical-align: middle;\n",
       "    }\n",
       "\n",
       "    .dataframe tbody tr th {\n",
       "        vertical-align: top;\n",
       "    }\n",
       "\n",
       "    .dataframe thead th {\n",
       "        text-align: right;\n",
       "    }\n",
       "</style>\n",
       "<table border=\"1\" class=\"dataframe\">\n",
       "  <thead>\n",
       "    <tr style=\"text-align: right;\">\n",
       "      <th></th>\n",
       "      <th>m</th>\n",
       "      <th>t</th>\n",
       "      <th>n</th>\n",
       "      <th>w</th>\n",
       "      <th>y</th>\n",
       "      <th>y_err</th>\n",
       "      <th>x</th>\n",
       "      <th>x_err</th>\n",
       "    </tr>\n",
       "  </thead>\n",
       "  <tbody>\n",
       "    <tr>\n",
       "      <th>0</th>\n",
       "      <td>0.3417</td>\n",
       "      <td>274.85</td>\n",
       "      <td>57.072267</td>\n",
       "      <td>0.207649</td>\n",
       "      <td>0.405825</td>\n",
       "      <td>0.000119</td>\n",
       "      <td>0.000163</td>\n",
       "      <td>0.000009</td>\n",
       "    </tr>\n",
       "    <tr>\n",
       "      <th>1</th>\n",
       "      <td>0.2719</td>\n",
       "      <td>343.38</td>\n",
       "      <td>56.548668</td>\n",
       "      <td>0.164682</td>\n",
       "      <td>0.322926</td>\n",
       "      <td>0.000119</td>\n",
       "      <td>0.000129</td>\n",
       "      <td>0.000007</td>\n",
       "    </tr>\n",
       "    <tr>\n",
       "      <th>2</th>\n",
       "      <td>0.2195</td>\n",
       "      <td>378.22</td>\n",
       "      <td>50.265482</td>\n",
       "      <td>0.132900</td>\n",
       "      <td>0.260692</td>\n",
       "      <td>0.000119</td>\n",
       "      <td>0.000104</td>\n",
       "      <td>0.000006</td>\n",
       "    </tr>\n",
       "    <tr>\n",
       "      <th>3</th>\n",
       "      <td>0.1756</td>\n",
       "      <td>414.50</td>\n",
       "      <td>43.982297</td>\n",
       "      <td>0.106109</td>\n",
       "      <td>0.208554</td>\n",
       "      <td>0.000119</td>\n",
       "      <td>0.000083</td>\n",
       "      <td>0.000005</td>\n",
       "    </tr>\n",
       "    <tr>\n",
       "      <th>4</th>\n",
       "      <td>0.1417</td>\n",
       "      <td>440.16</td>\n",
       "      <td>37.699112</td>\n",
       "      <td>0.085649</td>\n",
       "      <td>0.168292</td>\n",
       "      <td>0.000119</td>\n",
       "      <td>0.000067</td>\n",
       "      <td>0.000004</td>\n",
       "    </tr>\n",
       "    <tr>\n",
       "      <th>5</th>\n",
       "      <td>0.1158</td>\n",
       "      <td>465.00</td>\n",
       "      <td>32.463124</td>\n",
       "      <td>0.069813</td>\n",
       "      <td>0.137531</td>\n",
       "      <td>0.000119</td>\n",
       "      <td>0.000055</td>\n",
       "      <td>0.000003</td>\n",
       "    </tr>\n",
       "    <tr>\n",
       "      <th>6</th>\n",
       "      <td>0.0926</td>\n",
       "      <td>448.31</td>\n",
       "      <td>25.132741</td>\n",
       "      <td>0.056061</td>\n",
       "      <td>0.109978</td>\n",
       "      <td>0.000119</td>\n",
       "      <td>0.000044</td>\n",
       "      <td>0.000003</td>\n",
       "    </tr>\n",
       "    <tr>\n",
       "      <th>7</th>\n",
       "      <td>0.0761</td>\n",
       "      <td>577.18</td>\n",
       "      <td>26.703538</td>\n",
       "      <td>0.046266</td>\n",
       "      <td>0.090381</td>\n",
       "      <td>0.000119</td>\n",
       "      <td>0.000036</td>\n",
       "      <td>0.000002</td>\n",
       "    </tr>\n",
       "    <tr>\n",
       "      <th>8</th>\n",
       "      <td>0.0567</td>\n",
       "      <td>576.59</td>\n",
       "      <td>19.896753</td>\n",
       "      <td>0.034508</td>\n",
       "      <td>0.067341</td>\n",
       "      <td>0.000119</td>\n",
       "      <td>0.000027</td>\n",
       "      <td>0.000002</td>\n",
       "    </tr>\n",
       "  </tbody>\n",
       "</table>\n",
       "</div>"
      ],
      "text/plain": [
       "        m       t          n         w         y     y_err         x     x_err\n",
       "0  0.3417  274.85  57.072267  0.207649  0.405825  0.000119  0.000163  0.000009\n",
       "1  0.2719  343.38  56.548668  0.164682  0.322926  0.000119  0.000129  0.000007\n",
       "2  0.2195  378.22  50.265482  0.132900  0.260692  0.000119  0.000104  0.000006\n",
       "3  0.1756  414.50  43.982297  0.106109  0.208554  0.000119  0.000083  0.000005\n",
       "4  0.1417  440.16  37.699112  0.085649  0.168292  0.000119  0.000067  0.000004\n",
       "5  0.1158  465.00  32.463124  0.069813  0.137531  0.000119  0.000055  0.000003\n",
       "6  0.0926  448.31  25.132741  0.056061  0.109978  0.000119  0.000044  0.000003\n",
       "7  0.0761  577.18  26.703538  0.046266  0.090381  0.000119  0.000036  0.000002\n",
       "8  0.0567  576.59  19.896753  0.034508  0.067341  0.000119  0.000027  0.000002"
      ]
     },
     "execution_count": 38,
     "metadata": {},
     "output_type": "execute_result"
    }
   ],
   "source": [
    "data = pd.read_csv(\"../data/data.csv\")\n",
    "data[\"m\"]/=1e3\n",
    "data[\"n\"] *= pi/180\n",
    "data[\"w\"]=data[\"n\"]/data[\"t\"]\n",
    "data[\"y\"]=data[\"m\"]*g*l\n",
    "data[\"y_err\"]=data[\"y\"]*m_err/data[\"m\"]\n",
    "data[\"x\"]=I*data[\"w\"]\n",
    "data[\"x_err\"]=data[\"x\"]*I_err/I\n",
    "data"
   ]
  },
  {
   "cell_type": "code",
   "execution_count": 26,
   "id": "4467674f",
   "metadata": {},
   "outputs": [],
   "source": [
    "from math import sqrt\n",
    "def mnk(xs, ys):\n",
    "    n = len(xs)\n",
    "    xm = xs.mean()\n",
    "    ym = ys.mean()\n",
    "    xym = (xs*ys).mean()\n",
    "    xxm = (xs*xs).mean()\n",
    "    yym = (ys*ys).mean()\n",
    "    dxy = xym - xm*ym\n",
    "    dxx = ((xs-xm)**2).mean()\n",
    "    dyy = ((ys-ym)**2).mean()\n",
    "    \n",
    "    k = dxy/dxx\n",
    "    b = ym - k*xm\n",
    "    k_err = sqrt(1/(n-2)*(dyy/dxx-k**2))\n",
    "    b_err = k_err*sqrt((xs*xs).mean())\n",
    "    \n",
    "    return k, b, k_err, b_err"
   ]
  },
  {
   "cell_type": "code",
   "execution_count": 27,
   "id": "a01ce413",
   "metadata": {},
   "outputs": [
    {
     "data": {
      "text/plain": [
       "(2493.854159738534,\n",
       " 0.000420615978403982,\n",
       " 4.352566896578429,\n",
       " 0.00039068710567839303)"
      ]
     },
     "execution_count": 27,
     "metadata": {},
     "output_type": "execute_result"
    }
   ],
   "source": [
    "k, b, k_err, b_err = mnk(data.x, data.y)\n",
    "k, b, k_err, b_err"
   ]
  },
  {
   "cell_type": "code",
   "execution_count": 49,
   "id": "270ac460",
   "metadata": {
    "scrolled": false
   },
   "outputs": [
    {
     "data": {
      "image/png": "[encoded data removed]",
      "text/plain": [
       "<Figure size 640x480 with 1 Axes>"
      ]
     },
     "metadata": {},
     "output_type": "display_data"
    }
   ],
   "source": [
    "plt.errorbar(data.x, data.y, data.y_err, data.x_err, '.')\n",
    "plt.axline((0.00003, b+0.00003*k), (0.00004,0.00004*k+b))\n",
    "plt.xlabel(\"$I\\\\Omega, кг\\\\cdot м^2/с$\")\n",
    "plt.ylabel(\"$mgl, кг\\\\cdot м^2/с^2$\")\n",
    "plt.savefig(\"../img/plotk.png\")"
   ]
  },
  {
   "cell_type": "code",
   "execution_count": 32,
   "id": "20cc0d22",
   "metadata": {},
   "outputs": [
    {
     "data": {
      "text/plain": [
       "396.9092168726728"
      ]
     },
     "execution_count": 32,
     "metadata": {},
     "output_type": "execute_result"
    }
   ],
   "source": [
    "w0 = k/2/pi\n",
    "w0"
   ]
  },
  {
   "cell_type": "code",
   "execution_count": 36,
   "id": "0c659480",
   "metadata": {},
   "outputs": [
    {
     "data": {
      "text/plain": [
       "23.431321638601673"
      ]
     },
     "execution_count": 36,
     "metadata": {},
     "output_type": "execute_result"
    }
   ],
   "source": [
    "w0_err = w0*(k_err/k+m_err/m+I_err/I)\n",
    "w0_err"
   ]
  },
  {
   "cell_type": "code",
   "execution_count": 82,
   "id": "a56f740c",
   "metadata": {
    "scrolled": true
   },
   "outputs": [
    {
     "data": {
      "text/html": [
       "<div>\n",
       "<style scoped>\n",
       "    .dataframe tbody tr th:only-of-type {\n",
       "        vertical-align: middle;\n",
       "    }\n",
       "\n",
       "    .dataframe tbody tr th {\n",
       "        vertical-align: top;\n",
       "    }\n",
       "\n",
       "    .dataframe thead th {\n",
       "        text-align: right;\n",
       "    }\n",
       "</style>\n",
       "<table border=\"1\" class=\"dataframe\">\n",
       "  <thead>\n",
       "    <tr style=\"text-align: right;\">\n",
       "      <th></th>\n",
       "      <th>nu</th>\n",
       "      <th>t</th>\n",
       "      <th>y</th>\n",
       "      <th>y_err</th>\n",
       "      <th>x</th>\n",
       "      <th>x_err</th>\n",
       "    </tr>\n",
       "  </thead>\n",
       "  <tbody>\n",
       "    <tr>\n",
       "      <th>0</th>\n",
       "      <td>390.4</td>\n",
       "      <td>0</td>\n",
       "      <td>-0.000000</td>\n",
       "      <td>-0.000000</td>\n",
       "      <td>0</td>\n",
       "      <td>0</td>\n",
       "    </tr>\n",
       "    <tr>\n",
       "      <th>1</th>\n",
       "      <td>381.2</td>\n",
       "      <td>30</td>\n",
       "      <td>0.000019</td>\n",
       "      <td>0.000001</td>\n",
       "      <td>30</td>\n",
       "      <td>0</td>\n",
       "    </tr>\n",
       "    <tr>\n",
       "      <th>2</th>\n",
       "      <td>373.3</td>\n",
       "      <td>60</td>\n",
       "      <td>0.000035</td>\n",
       "      <td>0.000002</td>\n",
       "      <td>60</td>\n",
       "      <td>0</td>\n",
       "    </tr>\n",
       "    <tr>\n",
       "      <th>3</th>\n",
       "      <td>364.0</td>\n",
       "      <td>90</td>\n",
       "      <td>0.000055</td>\n",
       "      <td>0.000003</td>\n",
       "      <td>90</td>\n",
       "      <td>0</td>\n",
       "    </tr>\n",
       "    <tr>\n",
       "      <th>4</th>\n",
       "      <td>354.9</td>\n",
       "      <td>120</td>\n",
       "      <td>0.000075</td>\n",
       "      <td>0.000004</td>\n",
       "      <td>120</td>\n",
       "      <td>0</td>\n",
       "    </tr>\n",
       "    <tr>\n",
       "      <th>5</th>\n",
       "      <td>345.7</td>\n",
       "      <td>150</td>\n",
       "      <td>0.000095</td>\n",
       "      <td>0.000005</td>\n",
       "      <td>150</td>\n",
       "      <td>0</td>\n",
       "    </tr>\n",
       "    <tr>\n",
       "      <th>6</th>\n",
       "      <td>336.8</td>\n",
       "      <td>180</td>\n",
       "      <td>0.000116</td>\n",
       "      <td>0.000007</td>\n",
       "      <td>180</td>\n",
       "      <td>0</td>\n",
       "    </tr>\n",
       "    <tr>\n",
       "      <th>7</th>\n",
       "      <td>328.1</td>\n",
       "      <td>210</td>\n",
       "      <td>0.000136</td>\n",
       "      <td>0.000008</td>\n",
       "      <td>210</td>\n",
       "      <td>0</td>\n",
       "    </tr>\n",
       "    <tr>\n",
       "      <th>8</th>\n",
       "      <td>319.7</td>\n",
       "      <td>240</td>\n",
       "      <td>0.000157</td>\n",
       "      <td>0.000009</td>\n",
       "      <td>240</td>\n",
       "      <td>0</td>\n",
       "    </tr>\n",
       "    <tr>\n",
       "      <th>9</th>\n",
       "      <td>311.0</td>\n",
       "      <td>270</td>\n",
       "      <td>0.000178</td>\n",
       "      <td>0.000010</td>\n",
       "      <td>270</td>\n",
       "      <td>0</td>\n",
       "    </tr>\n",
       "    <tr>\n",
       "      <th>10</th>\n",
       "      <td>302.7</td>\n",
       "      <td>300</td>\n",
       "      <td>0.000200</td>\n",
       "      <td>0.000011</td>\n",
       "      <td>300</td>\n",
       "      <td>0</td>\n",
       "    </tr>\n",
       "    <tr>\n",
       "      <th>11</th>\n",
       "      <td>294.7</td>\n",
       "      <td>330</td>\n",
       "      <td>0.000221</td>\n",
       "      <td>0.000013</td>\n",
       "      <td>330</td>\n",
       "      <td>0</td>\n",
       "    </tr>\n",
       "    <tr>\n",
       "      <th>12</th>\n",
       "      <td>286.8</td>\n",
       "      <td>360</td>\n",
       "      <td>0.000242</td>\n",
       "      <td>0.000014</td>\n",
       "      <td>360</td>\n",
       "      <td>0</td>\n",
       "    </tr>\n",
       "    <tr>\n",
       "      <th>13</th>\n",
       "      <td>279.2</td>\n",
       "      <td>390</td>\n",
       "      <td>0.000263</td>\n",
       "      <td>0.000015</td>\n",
       "      <td>390</td>\n",
       "      <td>0</td>\n",
       "    </tr>\n",
       "    <tr>\n",
       "      <th>14</th>\n",
       "      <td>271.5</td>\n",
       "      <td>420</td>\n",
       "      <td>0.000285</td>\n",
       "      <td>0.000016</td>\n",
       "      <td>420</td>\n",
       "      <td>0</td>\n",
       "    </tr>\n",
       "    <tr>\n",
       "      <th>15</th>\n",
       "      <td>264.1</td>\n",
       "      <td>450</td>\n",
       "      <td>0.000307</td>\n",
       "      <td>0.000018</td>\n",
       "      <td>450</td>\n",
       "      <td>0</td>\n",
       "    </tr>\n",
       "    <tr>\n",
       "      <th>16</th>\n",
       "      <td>256.7</td>\n",
       "      <td>480</td>\n",
       "      <td>0.000329</td>\n",
       "      <td>0.000019</td>\n",
       "      <td>480</td>\n",
       "      <td>0</td>\n",
       "    </tr>\n",
       "    <tr>\n",
       "      <th>17</th>\n",
       "      <td>249.4</td>\n",
       "      <td>510</td>\n",
       "      <td>0.000352</td>\n",
       "      <td>0.000020</td>\n",
       "      <td>510</td>\n",
       "      <td>0</td>\n",
       "    </tr>\n",
       "    <tr>\n",
       "      <th>18</th>\n",
       "      <td>242.4</td>\n",
       "      <td>540</td>\n",
       "      <td>0.000374</td>\n",
       "      <td>0.000021</td>\n",
       "      <td>540</td>\n",
       "      <td>0</td>\n",
       "    </tr>\n",
       "    <tr>\n",
       "      <th>19</th>\n",
       "      <td>235.3</td>\n",
       "      <td>570</td>\n",
       "      <td>0.000397</td>\n",
       "      <td>0.000023</td>\n",
       "      <td>570</td>\n",
       "      <td>0</td>\n",
       "    </tr>\n",
       "    <tr>\n",
       "      <th>20</th>\n",
       "      <td>228.5</td>\n",
       "      <td>600</td>\n",
       "      <td>0.000420</td>\n",
       "      <td>0.000024</td>\n",
       "      <td>600</td>\n",
       "      <td>0</td>\n",
       "    </tr>\n",
       "  </tbody>\n",
       "</table>\n",
       "</div>"
      ],
      "text/plain": [
       "       nu    t         y     y_err    x  x_err\n",
       "0   390.4    0 -0.000000 -0.000000    0      0\n",
       "1   381.2   30  0.000019  0.000001   30      0\n",
       "2   373.3   60  0.000035  0.000002   60      0\n",
       "3   364.0   90  0.000055  0.000003   90      0\n",
       "4   354.9  120  0.000075  0.000004  120      0\n",
       "5   345.7  150  0.000095  0.000005  150      0\n",
       "6   336.8  180  0.000116  0.000007  180      0\n",
       "7   328.1  210  0.000136  0.000008  210      0\n",
       "8   319.7  240  0.000157  0.000009  240      0\n",
       "9   311.0  270  0.000178  0.000010  270      0\n",
       "10  302.7  300  0.000200  0.000011  300      0\n",
       "11  294.7  330  0.000221  0.000013  330      0\n",
       "12  286.8  360  0.000242  0.000014  360      0\n",
       "13  279.2  390  0.000263  0.000015  390      0\n",
       "14  271.5  420  0.000285  0.000016  420      0\n",
       "15  264.1  450  0.000307  0.000018  450      0\n",
       "16  256.7  480  0.000329  0.000019  480      0\n",
       "17  249.4  510  0.000352  0.000020  510      0\n",
       "18  242.4  540  0.000374  0.000021  540      0\n",
       "19  235.3  570  0.000397  0.000023  570      0\n",
       "20  228.5  600  0.000420  0.000024  600      0"
      ]
     },
     "execution_count": 82,
     "metadata": {},
     "output_type": "execute_result"
    }
   ],
   "source": [
    "data2 = pd.read_csv(\"../data/data2.csv\")\n",
    "data2[\"y\"] = -I*np.log(data2[\"nu\"]/data2[\"nu\"][0])\n",
    "data2[\"y_err\"] = data2[\"y\"]*I_err/I\n",
    "data2[\"x\"] = data2[\"t\"]\n",
    "data2[\"x_err\"] = 0\n",
    "data2"
   ]
  },
  {
   "cell_type": "code",
   "execution_count": 74,
   "id": "0ce6798a",
   "metadata": {},
   "outputs": [
    {
     "data": {
      "text/plain": [
       "(7.031521544222792e-07,\n",
       " -8.357290060874694e-06,\n",
       " 4.4867663971881425e-09,\n",
       " 1.5735698085757779e-06)"
      ]
     },
     "execution_count": 74,
     "metadata": {},
     "output_type": "execute_result"
    }
   ],
   "source": [
    "k, b, k_err, b_err = mnk(data2.x, data2.y)\n",
    "k, b, k_err, b_err"
   ]
  },
  {
   "cell_type": "code",
   "execution_count": 83,
   "id": "2485dbd8",
   "metadata": {},
   "outputs": [
    {
     "data": {
      "image/png": "[encoded data removed]",
      "text/plain": [
       "<Figure size 640x480 with 1 Axes>"
      ]
     },
     "metadata": {},
     "output_type": "display_data"
    }
   ],
   "source": [
    "plt.errorbar(data2.x, data2.y, data2.y_err, data2.x_err, '.')\n",
    "plt.axline((0, b), (100, 100*k+b))\n",
    "plt.xlabel(\"$t, c$\")\n",
    "plt.ylabel(\"$I\\\\ln\\\\frac{\\\\omega_0}{\\\\omega}$\")\n",
    "plt.savefig(\"../img/pltm.png\")"
   ]
  },
  {
   "cell_type": "code",
   "execution_count": 88,
   "id": "cedfdc70",
   "metadata": {},
   "outputs": [
    {
     "data": {
      "text/plain": [
       "(0.001724800975411468, 9.870568415571401e-05)"
      ]
     },
     "execution_count": 88,
     "metadata": {},
     "output_type": "execute_result"
    }
   ],
   "source": [
    "M = k * data2[\"nu\"][0] * 2 * pi\n",
    "M_err = M * I_err/I\n",
    "M, M_err"
   ]
  },
  {
   "cell_type": "code",
   "execution_count": 92,
   "id": "180e9a0b",
   "metadata": {
    "scrolled": true
   },
   "outputs": [
    {
     "data": {
      "text/plain": [
       "0    0.001863\n",
       "1    0.001491\n",
       "2    0.001354\n",
       "3    0.001236\n",
       "4    0.001164\n",
       "5    0.001101\n",
       "6    0.001142\n",
       "7    0.000887\n",
       "8    0.000888\n",
       "Name: t, dtype: float64"
      ]
     },
     "execution_count": 92,
     "metadata": {},
     "output_type": "execute_result"
    }
   ],
   "source": [
    "15/180*pi/data.t*I*w0*2*pi"
   ]
  },
  {
   "cell_type": "code",
   "execution_count": 94,
   "id": "7b565375",
   "metadata": {},
   "outputs": [
    {
     "data": {
      "text/plain": [
       "0    0.000144\n",
       "1    0.000116\n",
       "2    0.000105\n",
       "3    0.000096\n",
       "4    0.000090\n",
       "5    0.000085\n",
       "6    0.000089\n",
       "7    0.000069\n",
       "8    0.000069\n",
       "Name: t, dtype: float64"
      ]
     },
     "execution_count": 94,
     "metadata": {},
     "output_type": "execute_result"
    }
   ],
   "source": [
    "10/180*pi/data.t*(I_err*w0+I*w0_err)*2*pi"
   ]
  }
 ],
 "metadata": {
  "kernelspec": {
   "display_name": "Python 3 (ipykernel)",
   "language": "python",
   "name": "python3"
  },
  "language_info": {
   "codemirror_mode": {
    "name": "ipython",
    "version": 3
   },
   "file_extension": ".py",
   "mimetype": "text/x-python",
   "name": "python",
   "nbconvert_exporter": "python",
   "pygments_lexer": "ipython3",
   "version": "3.10.8"
  }
 },
 "nbformat": 4,
 "nbformat_minor": 5
}
