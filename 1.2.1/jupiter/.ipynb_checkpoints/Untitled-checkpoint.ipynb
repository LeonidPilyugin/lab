{
 "cells": [
  {
   "cell_type": "code",
   "execution_count": 1,
   "id": "dcbbf132",
   "metadata": {},
   "outputs": [
    {
     "name": "stdout",
     "output_type": "stream",
     "text": [
      "Set up\n"
     ]
    }
   ],
   "source": [
    "import pandas as pd\n",
    "import numpy as np\n",
    "import matplotlib.pyplot as plt\n",
    "from math import pi, sqrt\n",
    "print(\"Set up\")"
   ]
  },
  {
   "cell_type": "code",
   "execution_count": 2,
   "id": "8df4382d",
   "metadata": {},
   "outputs": [],
   "source": [
    "M = 2.9\n",
    "M_err = 5e-3\n",
    "L = 2.2\n",
    "L_err = 5e-3\n",
    "x_err = 5e-5\n",
    "m_err = 1e-6\n",
    "g = 9.8155\n",
    "r = 0.223\n",
    "r_err = 5e-4\n",
    "R = 0.358\n",
    "R_err = 5e-4\n",
    "d = 0.5\n",
    "d_err = 5e-4"
   ]
  },
  {
   "cell_type": "code",
   "execution_count": 3,
   "id": "86b0e61b",
   "metadata": {},
   "outputs": [
    {
     "data": {
      "text/html": [
       "<div>\n",
       "<style scoped>\n",
       "    .dataframe tbody tr th:only-of-type {\n",
       "        vertical-align: middle;\n",
       "    }\n",
       "\n",
       "    .dataframe tbody tr th {\n",
       "        vertical-align: top;\n",
       "    }\n",
       "\n",
       "    .dataframe thead th {\n",
       "        text-align: right;\n",
       "    }\n",
       "</style>\n",
       "<table border=\"1\" class=\"dataframe\">\n",
       "  <thead>\n",
       "    <tr style=\"text-align: right;\">\n",
       "      <th></th>\n",
       "      <th>m</th>\n",
       "      <th>x</th>\n",
       "    </tr>\n",
       "  </thead>\n",
       "  <tbody>\n",
       "    <tr>\n",
       "      <th>0</th>\n",
       "      <td>0.000502</td>\n",
       "      <td>0.0118</td>\n",
       "    </tr>\n",
       "    <tr>\n",
       "      <th>1</th>\n",
       "      <td>0.000509</td>\n",
       "      <td>0.0120</td>\n",
       "    </tr>\n",
       "    <tr>\n",
       "      <th>2</th>\n",
       "      <td>0.000511</td>\n",
       "      <td>0.0116</td>\n",
       "    </tr>\n",
       "    <tr>\n",
       "      <th>3</th>\n",
       "      <td>0.000510</td>\n",
       "      <td>0.0114</td>\n",
       "    </tr>\n",
       "  </tbody>\n",
       "</table>\n",
       "</div>"
      ],
      "text/plain": [
       "          m       x\n",
       "0  0.000502  0.0118\n",
       "1  0.000509  0.0120\n",
       "2  0.000511  0.0116\n",
       "3  0.000510  0.0114"
      ]
     },
     "execution_count": 3,
     "metadata": {},
     "output_type": "execute_result"
    }
   ],
   "source": [
    "data1 = pd.read_csv(\"../data/data1.csv\")\n",
    "data1[\"m\"] /= 1e3\n",
    "data1[\"x\"] /= 1e3\n",
    "data1"
   ]
  },
  {
   "cell_type": "code",
   "execution_count": 4,
   "id": "7eb08584",
   "metadata": {
    "scrolled": false
   },
   "outputs": [
    {
     "data": {
      "text/html": [
       "<div>\n",
       "<style scoped>\n",
       "    .dataframe tbody tr th:only-of-type {\n",
       "        vertical-align: middle;\n",
       "    }\n",
       "\n",
       "    .dataframe tbody tr th {\n",
       "        vertical-align: top;\n",
       "    }\n",
       "\n",
       "    .dataframe thead th {\n",
       "        text-align: right;\n",
       "    }\n",
       "</style>\n",
       "<table border=\"1\" class=\"dataframe\">\n",
       "  <thead>\n",
       "    <tr style=\"text-align: right;\">\n",
       "      <th></th>\n",
       "      <th>m</th>\n",
       "      <th>x</th>\n",
       "      <th>v</th>\n",
       "      <th>v_err</th>\n",
       "    </tr>\n",
       "  </thead>\n",
       "  <tbody>\n",
       "    <tr>\n",
       "      <th>0</th>\n",
       "      <td>0.000502</td>\n",
       "      <td>0.0118</td>\n",
       "      <td>143.986297</td>\n",
       "      <td>1.308810</td>\n",
       "    </tr>\n",
       "    <tr>\n",
       "      <th>1</th>\n",
       "      <td>0.000509</td>\n",
       "      <td>0.0120</td>\n",
       "      <td>144.413015</td>\n",
       "      <td>1.298534</td>\n",
       "    </tr>\n",
       "    <tr>\n",
       "      <th>2</th>\n",
       "      <td>0.000511</td>\n",
       "      <td>0.0116</td>\n",
       "      <td>139.052871</td>\n",
       "      <td>1.269246</td>\n",
       "    </tr>\n",
       "    <tr>\n",
       "      <th>3</th>\n",
       "      <td>0.000510</td>\n",
       "      <td>0.0114</td>\n",
       "      <td>136.923360</td>\n",
       "      <td>1.260688</td>\n",
       "    </tr>\n",
       "  </tbody>\n",
       "</table>\n",
       "</div>"
      ],
      "text/plain": [
       "          m       x           v     v_err\n",
       "0  0.000502  0.0118  143.986297  1.308810\n",
       "1  0.000509  0.0120  144.413015  1.298534\n",
       "2  0.000511  0.0116  139.052871  1.269246\n",
       "3  0.000510  0.0114  136.923360  1.260688"
      ]
     },
     "execution_count": 4,
     "metadata": {},
     "output_type": "execute_result"
    }
   ],
   "source": [
    "data1[\"v\"] = M/data1[\"m\"]*sqrt(g/L)*data1[\"x\"]\n",
    "data1[\"v_err\"] = data1[\"v\"]*(M_err/M+m_err/data1[\"m\"]+L_err/2/L+x_err/data1[\"x\"])\n",
    "data1"
   ]
  },
  {
   "cell_type": "code",
   "execution_count": 5,
   "id": "e29c12e9",
   "metadata": {},
   "outputs": [],
   "source": [
    "T1 = 12.35\n",
    "T2 = 9.24\n",
    "T_err = 0.1\n",
    "M1 = 730.3e-3\n",
    "M2 = 730.5e-3\n",
    "M_err = 5e-5"
   ]
  },
  {
   "cell_type": "code",
   "execution_count": 6,
   "id": "63cff5ca",
   "metadata": {},
   "outputs": [
    {
     "data": {
      "text/plain": [
       "0.21636679304041317"
      ]
     },
     "execution_count": 6,
     "metadata": {},
     "output_type": "execute_result"
    }
   ],
   "source": [
    "ki05 = 2*pi*(M1+M2)*R*R*T1/(T1*T1-T2*T2)\n",
    "ki05"
   ]
  },
  {
   "cell_type": "code",
   "execution_count": 7,
   "id": "ca5380e2",
   "metadata": {},
   "outputs": [
    {
     "data": {
      "text/plain": [
       "0.0076440839222616346"
      ]
     },
     "execution_count": 7,
     "metadata": {},
     "output_type": "execute_result"
    }
   ],
   "source": [
    "ki05_err = ki05 * (2*M_err/(M1+M2)+2*R_err/R+3*T_err/T2)\n",
    "ki05_err"
   ]
  },
  {
   "cell_type": "code",
   "execution_count": 8,
   "id": "ca93ab6e",
   "metadata": {},
   "outputs": [
    {
     "data": {
      "text/html": [
       "<div>\n",
       "<style scoped>\n",
       "    .dataframe tbody tr th:only-of-type {\n",
       "        vertical-align: middle;\n",
       "    }\n",
       "\n",
       "    .dataframe tbody tr th {\n",
       "        vertical-align: top;\n",
       "    }\n",
       "\n",
       "    .dataframe thead th {\n",
       "        text-align: right;\n",
       "    }\n",
       "</style>\n",
       "<table border=\"1\" class=\"dataframe\">\n",
       "  <thead>\n",
       "    <tr style=\"text-align: right;\">\n",
       "      <th></th>\n",
       "      <th>m</th>\n",
       "      <th>x</th>\n",
       "    </tr>\n",
       "  </thead>\n",
       "  <tbody>\n",
       "    <tr>\n",
       "      <th>0</th>\n",
       "      <td>0.000510</td>\n",
       "      <td>0.080</td>\n",
       "    </tr>\n",
       "    <tr>\n",
       "      <th>1</th>\n",
       "      <td>0.000503</td>\n",
       "      <td>0.084</td>\n",
       "    </tr>\n",
       "    <tr>\n",
       "      <th>2</th>\n",
       "      <td>0.000514</td>\n",
       "      <td>0.075</td>\n",
       "    </tr>\n",
       "    <tr>\n",
       "      <th>3</th>\n",
       "      <td>0.000508</td>\n",
       "      <td>0.085</td>\n",
       "    </tr>\n",
       "  </tbody>\n",
       "</table>\n",
       "</div>"
      ],
      "text/plain": [
       "          m      x\n",
       "0  0.000510  0.080\n",
       "1  0.000503  0.084\n",
       "2  0.000514  0.075\n",
       "3  0.000508  0.085"
      ]
     },
     "execution_count": 8,
     "metadata": {},
     "output_type": "execute_result"
    }
   ],
   "source": [
    "data2 = pd.read_csv(\"../data/data2.csv\")\n",
    "data2[\"m\"] /= 1e3\n",
    "data2[\"x\"] /= 1e2\n",
    "data2"
   ]
  },
  {
   "cell_type": "code",
   "execution_count": 9,
   "id": "9240674d",
   "metadata": {},
   "outputs": [
    {
     "data": {
      "text/html": [
       "<div>\n",
       "<style scoped>\n",
       "    .dataframe tbody tr th:only-of-type {\n",
       "        vertical-align: middle;\n",
       "    }\n",
       "\n",
       "    .dataframe tbody tr th {\n",
       "        vertical-align: top;\n",
       "    }\n",
       "\n",
       "    .dataframe thead th {\n",
       "        text-align: right;\n",
       "    }\n",
       "</style>\n",
       "<table border=\"1\" class=\"dataframe\">\n",
       "  <thead>\n",
       "    <tr style=\"text-align: right;\">\n",
       "      <th></th>\n",
       "      <th>m</th>\n",
       "      <th>x</th>\n",
       "      <th>v</th>\n",
       "      <th>v_err</th>\n",
       "    </tr>\n",
       "  </thead>\n",
       "  <tbody>\n",
       "    <tr>\n",
       "      <th>0</th>\n",
       "      <td>0.000510</td>\n",
       "      <td>0.080</td>\n",
       "      <td>152.196812</td>\n",
       "      <td>6.263998</td>\n",
       "    </tr>\n",
       "    <tr>\n",
       "      <th>1</th>\n",
       "      <td>0.000503</td>\n",
       "      <td>0.084</td>\n",
       "      <td>162.030602</td>\n",
       "      <td>6.668328</td>\n",
       "    </tr>\n",
       "    <tr>\n",
       "      <th>2</th>\n",
       "      <td>0.000514</td>\n",
       "      <td>0.075</td>\n",
       "      <td>141.574126</td>\n",
       "      <td>5.830536</td>\n",
       "    </tr>\n",
       "    <tr>\n",
       "      <th>3</th>\n",
       "      <td>0.000508</td>\n",
       "      <td>0.085</td>\n",
       "      <td>162.345763</td>\n",
       "      <td>6.676985</td>\n",
       "    </tr>\n",
       "  </tbody>\n",
       "</table>\n",
       "</div>"
      ],
      "text/plain": [
       "          m      x           v     v_err\n",
       "0  0.000510  0.080  152.196812  6.263998\n",
       "1  0.000503  0.084  162.030602  6.668328\n",
       "2  0.000514  0.075  141.574126  5.830536\n",
       "3  0.000508  0.085  162.345763  6.676985"
      ]
     },
     "execution_count": 9,
     "metadata": {},
     "output_type": "execute_result"
    }
   ],
   "source": [
    "data2[\"v\"] = data2[\"x\"]/2/d*ki05/data2[\"m\"]/r\n",
    "data2[\"v_err\"] = data2[\"v\"] * (x_err/data2[\"x\"]+d_err/d+ki05_err/ki05+m_err/data2[\"m\"]+r_err/r)\n",
    "data2"
   ]
  },
  {
   "cell_type": "code",
   "execution_count": null,
   "id": "bbd4cdfd",
   "metadata": {},
   "outputs": [],
   "source": []
  }
 ],
 "metadata": {
  "kernelspec": {
   "display_name": "Python 3 (ipykernel)",
   "language": "python",
   "name": "python3"
  },
  "language_info": {
   "codemirror_mode": {
    "name": "ipython",
    "version": 3
   },
   "file_extension": ".py",
   "mimetype": "text/x-python",
   "name": "python",
   "nbconvert_exporter": "python",
   "pygments_lexer": "ipython3",
   "version": "3.10.8"
  }
 },
 "nbformat": 4,
 "nbformat_minor": 5
}
