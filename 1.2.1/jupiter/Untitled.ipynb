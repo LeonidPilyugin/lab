{
 "cells": [
  {
   "cell_type": "code",
   "execution_count": 1,
   "id": "dcbbf132",
   "metadata": {},
   "outputs": [
    {
     "name": "stdout",
     "output_type": "stream",
     "text": [
      "Set up\n"
     ]
    }
   ],
   "source": [
    "import pandas as pd\n",
    "import numpy as np\n",
    "import matplotlib.pyplot as plt\n",
    "from math import pi, sqrt\n",
    "print(\"Set up\")"
   ]
  },
  {
   "cell_type": "code",
   "execution_count": 2,
   "id": "70c43d14",
   "metadata": {},
   "outputs": [],
   "source": [
    "M = 2.9\n",
    "M_err = 5e-3\n",
    "L = 2.2\n",
    "L_err = 5e-3\n",
    "x_err = 5e-5\n",
    "m_err = 1e-6\n",
    "g = 9.8155\n",
    "r = 0.223\n",
    "r_err = 5e-4\n",
    "R = 0.358\n",
    "R_err = 5e-4\n",
    "d = 0.5\n",
    "d_err = 5e-4"
   ]
  },
  {
   "cell_type": "code",
   "execution_count": 3,
   "id": "c7142b73",
   "metadata": {},
   "outputs": [
    {
     "data": {
      "text/html": [
       "<div>\n",
       "<style scoped>\n",
       "    .dataframe tbody tr th:only-of-type {\n",
       "        vertical-align: middle;\n",
       "    }\n",
       "\n",
       "    .dataframe tbody tr th {\n",
       "        vertical-align: top;\n",
       "    }\n",
       "\n",
       "    .dataframe thead th {\n",
       "        text-align: right;\n",
       "    }\n",
       "</style>\n",
       "<table border=\"1\" class=\"dataframe\">\n",
       "  <thead>\n",
       "    <tr style=\"text-align: right;\">\n",
       "      <th></th>\n",
       "      <th>m</th>\n",
       "      <th>x</th>\n",
       "    </tr>\n",
       "  </thead>\n",
       "  <tbody>\n",
       "    <tr>\n",
       "      <th>0</th>\n",
       "      <td>0.000502</td>\n",
       "      <td>0.0118</td>\n",
       "    </tr>\n",
       "    <tr>\n",
       "      <th>1</th>\n",
       "      <td>0.000509</td>\n",
       "      <td>0.0120</td>\n",
       "    </tr>\n",
       "    <tr>\n",
       "      <th>2</th>\n",
       "      <td>0.000511</td>\n",
       "      <td>0.0116</td>\n",
       "    </tr>\n",
       "    <tr>\n",
       "      <th>3</th>\n",
       "      <td>0.000510</td>\n",
       "      <td>0.0114</td>\n",
       "    </tr>\n",
       "  </tbody>\n",
       "</table>\n",
       "</div>"
      ],
      "text/plain": [
       "          m       x\n",
       "0  0.000502  0.0118\n",
       "1  0.000509  0.0120\n",
       "2  0.000511  0.0116\n",
       "3  0.000510  0.0114"
      ]
     },
     "execution_count": 3,
     "metadata": {},
     "output_type": "execute_result"
    }
   ],
   "source": [
    "data1 = pd.read_csv(\"../data/data1.csv\")\n",
    "data1[\"m\"] /= 1e3\n",
    "data1[\"x\"] /= 1e3\n",
    "data1"
   ]
  },
  {
   "cell_type": "code",
   "execution_count": 4,
   "id": "2cefd890",
   "metadata": {
    "scrolled": false
   },
   "outputs": [
    {
     "data": {
      "text/html": [
       "<div>\n",
       "<style scoped>\n",
       "    .dataframe tbody tr th:only-of-type {\n",
       "        vertical-align: middle;\n",
       "    }\n",
       "\n",
       "    .dataframe tbody tr th {\n",
       "        vertical-align: top;\n",
       "    }\n",
       "\n",
       "    .dataframe thead th {\n",
       "        text-align: right;\n",
       "    }\n",
       "</style>\n",
       "<table border=\"1\" class=\"dataframe\">\n",
       "  <thead>\n",
       "    <tr style=\"text-align: right;\">\n",
       "      <th></th>\n",
       "      <th>m</th>\n",
       "      <th>x</th>\n",
       "      <th>v</th>\n",
       "      <th>v_err</th>\n",
       "    </tr>\n",
       "  </thead>\n",
       "  <tbody>\n",
       "    <tr>\n",
       "      <th>0</th>\n",
       "      <td>0.000502</td>\n",
       "      <td>0.0118</td>\n",
       "      <td>143.986297</td>\n",
       "      <td>1.308810</td>\n",
       "    </tr>\n",
       "    <tr>\n",
       "      <th>1</th>\n",
       "      <td>0.000509</td>\n",
       "      <td>0.0120</td>\n",
       "      <td>144.413015</td>\n",
       "      <td>1.298534</td>\n",
       "    </tr>\n",
       "    <tr>\n",
       "      <th>2</th>\n",
       "      <td>0.000511</td>\n",
       "      <td>0.0116</td>\n",
       "      <td>139.052871</td>\n",
       "      <td>1.269246</td>\n",
       "    </tr>\n",
       "    <tr>\n",
       "      <th>3</th>\n",
       "      <td>0.000510</td>\n",
       "      <td>0.0114</td>\n",
       "      <td>136.923360</td>\n",
       "      <td>1.260688</td>\n",
       "    </tr>\n",
       "  </tbody>\n",
       "</table>\n",
       "</div>"
      ],
      "text/plain": [
       "          m       x           v     v_err\n",
       "0  0.000502  0.0118  143.986297  1.308810\n",
       "1  0.000509  0.0120  144.413015  1.298534\n",
       "2  0.000511  0.0116  139.052871  1.269246\n",
       "3  0.000510  0.0114  136.923360  1.260688"
      ]
     },
     "execution_count": 4,
     "metadata": {},
     "output_type": "execute_result"
    }
   ],
   "source": [
    "data1[\"v\"] = M/data1[\"m\"]*sqrt(g/L)*data1[\"x\"]\n",
    "data1[\"v_err\"] = data1[\"v\"]*(M_err/M+m_err/data1[\"m\"]+L_err/2/L+x_err/data1[\"x\"])\n",
    "data1"
   ]
  },
  {
   "cell_type": "code",
   "execution_count": 5,
   "id": "53a26aec",
   "metadata": {},
   "outputs": [],
   "source": [
    "T1 = 12.35\n",
    "T2 = 9.24\n",
    "T_err = 0.1\n",
    "M1 = 730.3e-3\n",
    "M2 = 730.5e-3\n",
    "M_err = 5e-5"
   ]
  },
  {
   "cell_type": "code",
   "execution_count": 6,
   "id": "d75e8921",
   "metadata": {},
   "outputs": [
    {
     "data": {
      "text/plain": [
       "0.21636679304041317"
      ]
     },
     "execution_count": 6,
     "metadata": {},
     "output_type": "execute_result"
    }
   ],
   "source": [
    "ki05 = 2*pi*(M1+M2)*R*R*T1/(T1*T1-T2*T2)\n",
    "ki05"
   ]
  },
  {
   "cell_type": "code",
   "execution_count": 7,
   "id": "b5f694a8",
   "metadata": {},
   "outputs": [
    {
     "data": {
      "text/plain": [
       "0.0076440839222616346"
      ]
     },
     "execution_count": 7,
     "metadata": {},
     "output_type": "execute_result"
    }
   ],
   "source": [
    "ki05_err = ki05 * (2*M_err/(M1+M2)+2*R_err/R+3*T_err/T2)\n",
    "ki05_err"
   ]
  },
  {
   "cell_type": "code",
   "execution_count": 8,
   "id": "ade0bcfb",
   "metadata": {},
   "outputs": [
    {
     "data": {
      "text/html": [
       "<div>\n",
       "<style scoped>\n",
       "    .dataframe tbody tr th:only-of-type {\n",
       "        vertical-align: middle;\n",
       "    }\n",
       "\n",
       "    .dataframe tbody tr th {\n",
       "        vertical-align: top;\n",
       "    }\n",
       "\n",
       "    .dataframe thead th {\n",
       "        text-align: right;\n",
       "    }\n",
       "</style>\n",
       "<table border=\"1\" class=\"dataframe\">\n",
       "  <thead>\n",
       "    <tr style=\"text-align: right;\">\n",
       "      <th></th>\n",
       "      <th>m</th>\n",
       "      <th>x</th>\n",
       "    </tr>\n",
       "  </thead>\n",
       "  <tbody>\n",
       "    <tr>\n",
       "      <th>0</th>\n",
       "      <td>0.000510</td>\n",
       "      <td>0.100</td>\n",
       "    </tr>\n",
       "    <tr>\n",
       "      <th>1</th>\n",
       "      <td>0.000503</td>\n",
       "      <td>0.104</td>\n",
       "    </tr>\n",
       "    <tr>\n",
       "      <th>2</th>\n",
       "      <td>0.000514</td>\n",
       "      <td>0.098</td>\n",
       "    </tr>\n",
       "    <tr>\n",
       "      <th>3</th>\n",
       "      <td>0.000508</td>\n",
       "      <td>0.100</td>\n",
       "    </tr>\n",
       "  </tbody>\n",
       "</table>\n",
       "</div>"
      ],
      "text/plain": [
       "          m      x\n",
       "0  0.000510  0.100\n",
       "1  0.000503  0.104\n",
       "2  0.000514  0.098\n",
       "3  0.000508  0.100"
      ]
     },
     "execution_count": 8,
     "metadata": {},
     "output_type": "execute_result"
    }
   ],
   "source": [
    "data2 = pd.read_csv(\"../data/data2.csv\")\n",
    "data2[\"m\"] /= 1e3\n",
    "data2[\"x\"] /= 1e2\n",
    "data2"
   ]
  },
  {
   "cell_type": "code",
   "execution_count": 9,
   "id": "a9448bd0",
   "metadata": {},
   "outputs": [
    {
     "data": {
      "text/html": [
       "<div>\n",
       "<style scoped>\n",
       "    .dataframe tbody tr th:only-of-type {\n",
       "        vertical-align: middle;\n",
       "    }\n",
       "\n",
       "    .dataframe tbody tr th {\n",
       "        vertical-align: top;\n",
       "    }\n",
       "\n",
       "    .dataframe thead th {\n",
       "        text-align: right;\n",
       "    }\n",
       "</style>\n",
       "<table border=\"1\" class=\"dataframe\">\n",
       "  <thead>\n",
       "    <tr style=\"text-align: right;\">\n",
       "      <th></th>\n",
       "      <th>m</th>\n",
       "      <th>x</th>\n",
       "      <th>v</th>\n",
       "      <th>v_err</th>\n",
       "    </tr>\n",
       "  </thead>\n",
       "  <tbody>\n",
       "    <tr>\n",
       "      <th>0</th>\n",
       "      <td>0.000510</td>\n",
       "      <td>0.100</td>\n",
       "      <td>190.246015</td>\n",
       "      <td>7.806217</td>\n",
       "    </tr>\n",
       "    <tr>\n",
       "      <th>1</th>\n",
       "      <td>0.000503</td>\n",
       "      <td>0.104</td>\n",
       "      <td>200.609317</td>\n",
       "      <td>8.233062</td>\n",
       "    </tr>\n",
       "    <tr>\n",
       "      <th>2</th>\n",
       "      <td>0.000514</td>\n",
       "      <td>0.098</td>\n",
       "      <td>184.990191</td>\n",
       "      <td>7.589623</td>\n",
       "    </tr>\n",
       "    <tr>\n",
       "      <th>3</th>\n",
       "      <td>0.000508</td>\n",
       "      <td>0.100</td>\n",
       "      <td>190.995015</td>\n",
       "      <td>7.838424</td>\n",
       "    </tr>\n",
       "  </tbody>\n",
       "</table>\n",
       "</div>"
      ],
      "text/plain": [
       "          m      x           v     v_err\n",
       "0  0.000510  0.100  190.246015  7.806217\n",
       "1  0.000503  0.104  200.609317  8.233062\n",
       "2  0.000514  0.098  184.990191  7.589623\n",
       "3  0.000508  0.100  190.995015  7.838424"
      ]
     },
     "execution_count": 9,
     "metadata": {},
     "output_type": "execute_result"
    }
   ],
   "source": [
    "data2[\"v\"] = data2[\"x\"]/2/d*ki05/data2[\"m\"]/r\n",
    "data2[\"v_err\"] = data2[\"v\"] * (x_err/data2[\"x\"]+d_err/d+ki05_err/ki05+m_err/data2[\"m\"]+r_err/r)\n",
    "data2"
   ]
  }
 ],
 "metadata": {
  "kernelspec": {
   "display_name": "Python 3 (ipykernel)",
   "language": "python",
   "name": "python3"
  },
  "language_info": {
   "codemirror_mode": {
    "name": "ipython",
    "version": 3
   },
   "file_extension": ".py",
   "mimetype": "text/x-python",
   "name": "python",
   "nbconvert_exporter": "python",
   "pygments_lexer": "ipython3",
   "version": "3.10.8"
  }
 },
 "nbformat": 4,
 "nbformat_minor": 5
}
