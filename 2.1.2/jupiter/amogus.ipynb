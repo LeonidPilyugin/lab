{
 "cells": [
  {
   "cell_type": "code",
   "execution_count": 2,
   "id": "3fb0b379",
   "metadata": {
    "scrolled": true
   },
   "outputs": [
    {
     "name": "stdout",
     "output_type": "stream",
     "text": [
      "Done\n"
     ]
    }
   ],
   "source": [
    "import numpy as np\n",
    "import pandas as pd\n",
    "import matplotlib.pyplot as plt\n",
    "import scipy as sc\n",
    "from datetime import datetime\n",
    "print(\"Done\")"
   ]
  },
  {
   "cell_type": "code",
   "execution_count": 42,
   "id": "fc419336",
   "metadata": {},
   "outputs": [
    {
     "data": {
      "text/html": [
       "<div>\n",
       "<style scoped>\n",
       "    .dataframe tbody tr th:only-of-type {\n",
       "        vertical-align: middle;\n",
       "    }\n",
       "\n",
       "    .dataframe tbody tr th {\n",
       "        vertical-align: top;\n",
       "    }\n",
       "\n",
       "    .dataframe thead th {\n",
       "        text-align: right;\n",
       "    }\n",
       "</style>\n",
       "<table border=\"1\" class=\"dataframe\">\n",
       "  <thead>\n",
       "    <tr style=\"text-align: right;\">\n",
       "      <th></th>\n",
       "      <th>t</th>\n",
       "      <th>h1</th>\n",
       "      <th>h2</th>\n",
       "      <th>y</th>\n",
       "      <th>y_err</th>\n",
       "      <th>x</th>\n",
       "    </tr>\n",
       "  </thead>\n",
       "  <tbody>\n",
       "    <tr>\n",
       "      <th>0</th>\n",
       "      <td>5</td>\n",
       "      <td>10.4</td>\n",
       "      <td>1.5</td>\n",
       "      <td>1.936341</td>\n",
       "      <td>0.078562</td>\n",
       "      <td>5</td>\n",
       "    </tr>\n",
       "    <tr>\n",
       "      <th>1</th>\n",
       "      <td>10</td>\n",
       "      <td>10.7</td>\n",
       "      <td>1.2</td>\n",
       "      <td>2.187922</td>\n",
       "      <td>0.096314</td>\n",
       "      <td>10</td>\n",
       "    </tr>\n",
       "    <tr>\n",
       "      <th>2</th>\n",
       "      <td>15</td>\n",
       "      <td>10.8</td>\n",
       "      <td>1.1</td>\n",
       "      <td>2.284236</td>\n",
       "      <td>0.104527</td>\n",
       "      <td>15</td>\n",
       "    </tr>\n",
       "    <tr>\n",
       "      <th>3</th>\n",
       "      <td>20</td>\n",
       "      <td>10.9</td>\n",
       "      <td>0.9</td>\n",
       "      <td>2.494123</td>\n",
       "      <td>0.126916</td>\n",
       "      <td>20</td>\n",
       "    </tr>\n",
       "    <tr>\n",
       "      <th>4</th>\n",
       "      <td>25</td>\n",
       "      <td>10.8</td>\n",
       "      <td>0.8</td>\n",
       "      <td>2.602690</td>\n",
       "      <td>0.142748</td>\n",
       "      <td>25</td>\n",
       "    </tr>\n",
       "    <tr>\n",
       "      <th>5</th>\n",
       "      <td>30</td>\n",
       "      <td>10.8</td>\n",
       "      <td>0.7</td>\n",
       "      <td>2.736221</td>\n",
       "      <td>0.163367</td>\n",
       "      <td>30</td>\n",
       "    </tr>\n",
       "    <tr>\n",
       "      <th>6</th>\n",
       "      <td>35</td>\n",
       "      <td>10.7</td>\n",
       "      <td>0.5</td>\n",
       "      <td>3.063391</td>\n",
       "      <td>0.232446</td>\n",
       "      <td>35</td>\n",
       "    </tr>\n",
       "  </tbody>\n",
       "</table>\n",
       "</div>"
      ],
      "text/plain": [
       "    t    h1   h2         y     y_err   x\n",
       "0   5  10.4  1.5  1.936341  0.078562   5\n",
       "1  10  10.7  1.2  2.187922  0.096314  10\n",
       "2  15  10.8  1.1  2.284236  0.104527  15\n",
       "3  20  10.9  0.9  2.494123  0.126916  20\n",
       "4  25  10.8  0.8  2.602690  0.142748  25\n",
       "5  30  10.8  0.7  2.736221  0.163367  30\n",
       "6  35  10.7  0.5  3.063391  0.232446  35"
      ]
     },
     "execution_count": 42,
     "metadata": {},
     "output_type": "execute_result"
    }
   ],
   "source": [
    "h_err = 0.1\n",
    "data = pd.read_csv(\"../data/data.csv\")\n",
    "data[\"y\"] = np.log(data.h1 / data.h2)\n",
    "data[\"y_err\"] = np.log((data.h1 + h_err) / (data.h2 - h_err)) - data.y\n",
    "data[\"x\"] = data.t\n",
    "data"
   ]
  },
  {
   "cell_type": "code",
   "execution_count": 60,
   "id": "c5860ed8",
   "metadata": {},
   "outputs": [
    {
     "name": "stdout",
     "output_type": "stream",
     "text": [
      "b = 1.7869602339426385 +/- 0.05134754336642135 (2.8734575281024193%)\n",
      "1.201155696772782 0.277280202786667\n"
     ]
    },
    {
     "data": {
      "image/png": "[encoded data removed]",
      "text/plain": [
       "<Figure size 640x480 with 1 Axes>"
      ]
     },
     "metadata": {},
     "output_type": "display_data"
    }
   ],
   "source": [
    "pp, V = np.polyfit(data.x, data.y, 1, cov=True)\n",
    "k, b = pp\n",
    "k_err, b_err = np.sqrt(V[0][0]), np.sqrt(V[1][1])\n",
    "plt.grid()\n",
    "plt.axline([min(data.x), min(data.x) * k + b], [max(data.x), max(data.x) * k + b], color='r')\n",
    "plt.errorbar(data.x, data.y, yerr = data.y_err, fmt='.')\n",
    "plt.xlabel(\"$\\\\tau$ с\")\n",
    "plt.ylabel(\"$\\\\ln\\\\Delta h_1 / \\\\Delta h_2$\")\n",
    "print(f\"b = {b} +/- {b_err} ({b_err/b*100}%)\")\n",
    "y_err = data.y_err.min()\n",
    "b_err = np.hypot(b_err, y_err)\n",
    "g = np.exp(b) / (np.exp(b) - 1)\n",
    "g_err = np.exp(b + b_err) / (np.exp(b - b_err) - 1) - g\n",
    "print(g, g_err)\n",
    "plt.savefig(\"../img/plot.png\", dpi=400)"
   ]
  },
  {
   "cell_type": "code",
   "execution_count": 52,
   "id": "78fdd9ee",
   "metadata": {},
   "outputs": [
    {
     "name": "stdout",
     "output_type": "stream",
     "text": [
      "1.9927464470386334\n",
      "1.5811740208466436\n",
      "0.41157242619198975\n"
     ]
    },
    {
     "data": {
      "image/png": "[encoded data removed]",
      "text/plain": [
       "<Figure size 640x480 with 1 Axes>"
      ]
     },
     "metadata": {},
     "output_type": "display_data"
    }
   ],
   "source": [
    "y = list(data.y)\n",
    "for i in range(0, 3):\n",
    "    y[i] += data.y_err[i]\n",
    "for i in range(4, 7):\n",
    "    y[i] -= data.y_err[i]\n",
    "pp, V = np.polyfit(data.x, y, 1, cov=True)\n",
    "k, b1 = pp\n",
    "k_err, b_err = np.sqrt(V[0][0]), np.sqrt(V[1][1])\n",
    "print(b1)\n",
    "\n",
    "y = list(data.y)\n",
    "for i in range(0, 3):\n",
    "    y[i] -= data.y_err[i]\n",
    "for i in range(4, 7):\n",
    "    y[i] += data.y_err[i]\n",
    "    \n",
    "pp, V = np.polyfit(data.x, y, 1, cov=True)\n",
    "k, b2 = pp\n",
    "k_err, b_err = np.sqrt(V[0][0]), np.sqrt(V[1][1])\n",
    "print(b2)\n",
    "\n",
    "plt.axline([min(data.x), min(data.x) * k + b2], [max(data.x), max(data.x) * k + b2], color='r')\n",
    "plt.errorbar(data.x, data.y, yerr = data.y_err, fmt='.')\n",
    "\n",
    "print(b1-b2)"
   ]
  }
 ],
 "metadata": {
  "kernelspec": {
   "display_name": "Python 3 (ipykernel)",
   "language": "python",
   "name": "python3"
  },
  "language_info": {
   "codemirror_mode": {
    "name": "ipython",
    "version": 3
   },
   "file_extension": ".py",
   "mimetype": "text/x-python",
   "name": "python",
   "nbconvert_exporter": "python",
   "pygments_lexer": "ipython3",
   "version": "3.10.10"
  }
 },
 "nbformat": 4,
 "nbformat_minor": 5
}
