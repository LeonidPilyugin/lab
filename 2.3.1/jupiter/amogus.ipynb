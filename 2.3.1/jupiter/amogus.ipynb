{
 "cells": [
  {
   "cell_type": "code",
   "execution_count": 1,
   "id": "3fb0b379",
   "metadata": {
    "scrolled": true
   },
   "outputs": [
    {
     "name": "stdout",
     "output_type": "stream",
     "text": [
      "Done\n"
     ]
    }
   ],
   "source": [
    "import numpy as np\n",
    "import pandas as pd\n",
    "import matplotlib.pyplot as plt\n",
    "import scipy as sc\n",
    "from datetime import datetime\n",
    "print(\"Done\")"
   ]
  },
  {
   "cell_type": "code",
   "execution_count": 2,
   "id": "3766edc8",
   "metadata": {},
   "outputs": [],
   "source": [
    "rho = 885\n",
    "v_k5k6 = 50e-6\n",
    "L = 0.108\n",
    "d = 0.8e-3\n",
    "p0 = 99.21e3\n",
    "g = 9.8155\n",
    "torr = 101325 / 760"
   ]
  },
  {
   "cell_type": "markdown",
   "id": "50986a66",
   "metadata": {},
   "source": [
    "# task 11"
   ]
  },
  {
   "cell_type": "code",
   "execution_count": 3,
   "id": "b8dca249",
   "metadata": {},
   "outputs": [
    {
     "name": "stdout",
     "output_type": "stream",
     "text": [
      "dh_фв = 0.265 м\n",
      "p = 2301.9801375 Па\n"
     ]
    }
   ],
   "source": [
    "h1 = 0.382\n",
    "h2 = 0.117\n",
    "dh11 = h1 - h2\n",
    "p11 = dh11 * rho * g\n",
    "print(f\"dh_фв = {dh11} м\\np = {p11} Па\")"
   ]
  },
  {
   "cell_type": "markdown",
   "id": "1425ad53",
   "metadata": {},
   "source": [
    "# task 12"
   ]
  },
  {
   "cell_type": "code",
   "execution_count": 5,
   "id": "387dffab",
   "metadata": {},
   "outputs": [
    {
     "name": "stdout",
     "output_type": "stream",
     "text": [
      "v_фв = 0.0021048839276203357 м^3\n"
     ]
    }
   ],
   "source": [
    "V1 = p0 * v_k5k6 / p11\n",
    "v12 = V1 - v_k5k6\n",
    "print(f\"v_фв = {v12} м^3\")"
   ]
  },
  {
   "cell_type": "markdown",
   "id": "6e0f709e",
   "metadata": {},
   "source": [
    "# task 13"
   ]
  },
  {
   "cell_type": "code",
   "execution_count": 6,
   "id": "45fcf039",
   "metadata": {},
   "outputs": [
    {
     "name": "stdout",
     "output_type": "stream",
     "text": [
      "dh_полн = 0.168 м\n",
      "p = 1459.3685400000002 Па\n"
     ]
    }
   ],
   "source": [
    "h3 = 0.338\n",
    "h4 = 0.17\n",
    "dh13 = h3 - h4\n",
    "p13 = rho * g * dh13\n",
    "print(f\"dh_полн = {dh13} м\\np = {p13} Па\")"
   ]
  },
  {
   "cell_type": "markdown",
   "id": "21e8e938",
   "metadata": {},
   "source": [
    "# task 15"
   ]
  },
  {
   "cell_type": "code",
   "execution_count": 7,
   "id": "5e17bc3b",
   "metadata": {},
   "outputs": [
    {
     "name": "stdout",
     "output_type": "stream",
     "text": [
      "v15_вв = 0.0012441889343998366 м^3\n"
     ]
    }
   ],
   "source": [
    "v15 = p0 * v_k5k6 / p13 - v12 - v_k5k6\n",
    "print(f\"v15_вв = {v15} м^3\")"
   ]
  },
  {
   "cell_type": "markdown",
   "id": "4d04baf9",
   "metadata": {},
   "source": [
    "# task 24"
   ]
  },
  {
   "cell_type": "code",
   "execution_count": 8,
   "id": "e6aab675",
   "metadata": {},
   "outputs": [
    {
     "name": "stdout",
     "output_type": "stream",
     "text": [
      "p24 = 0.006532796052631578 Па\n"
     ]
    }
   ],
   "source": [
    "p24 = 4.9e-5 * torr\n",
    "print(f\"p24 = {p24} Па\")"
   ]
  },
  {
   "cell_type": "markdown",
   "id": "727b19ee",
   "metadata": {},
   "source": [
    "# task 28"
   ]
  },
  {
   "cell_type": "code",
   "execution_count": 9,
   "id": "5faadfa9",
   "metadata": {},
   "outputs": [],
   "source": [
    "p_u = 9e-5 * torr\n",
    "p_f = 6e-4 / torr"
   ]
  }
 ],
 "metadata": {
  "kernelspec": {
   "display_name": "Python 3 (ipykernel)",
   "language": "python",
   "name": "python3"
  },
  "language_info": {
   "codemirror_mode": {
    "name": "ipython",
    "version": 3
   },
   "file_extension": ".py",
   "mimetype": "text/x-python",
   "name": "python",
   "nbconvert_exporter": "python",
   "pygments_lexer": "ipython3",
   "version": "3.10.10"
  }
 },
 "nbformat": 4,
 "nbformat_minor": 5
}
