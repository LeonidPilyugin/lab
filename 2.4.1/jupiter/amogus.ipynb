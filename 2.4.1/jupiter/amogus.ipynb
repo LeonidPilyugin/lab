{
 "cells": [
  {
   "cell_type": "code",
   "execution_count": 1,
   "id": "3fb0b379",
   "metadata": {
    "scrolled": true
   },
   "outputs": [
    {
     "name": "stdout",
     "output_type": "stream",
     "text": [
      "Done\n"
     ]
    }
   ],
   "source": [
    "import numpy as np\n",
    "import pandas as pd\n",
    "import matplotlib.pyplot as plt\n",
    "import scipy as sc\n",
    "from datetime import datetime\n",
    "print(\"Done\")"
   ]
  },
  {
   "cell_type": "code",
   "execution_count": 2,
   "id": "229ee13d",
   "metadata": {
    "scrolled": true
   },
   "outputs": [
    {
     "data": {
      "text/html": [
       "<div>\n",
       "<style scoped>\n",
       "    .dataframe tbody tr th:only-of-type {\n",
       "        vertical-align: middle;\n",
       "    }\n",
       "\n",
       "    .dataframe tbody tr th {\n",
       "        vertical-align: top;\n",
       "    }\n",
       "\n",
       "    .dataframe thead th {\n",
       "        text-align: right;\n",
       "    }\n",
       "</style>\n",
       "<table border=\"1\" class=\"dataframe\">\n",
       "  <thead>\n",
       "    <tr style=\"text-align: right;\">\n",
       "      <th></th>\n",
       "      <th>T</th>\n",
       "      <th>h1</th>\n",
       "      <th>h2</th>\n",
       "      <th>P</th>\n",
       "    </tr>\n",
       "  </thead>\n",
       "  <tbody>\n",
       "    <tr>\n",
       "      <th>0</th>\n",
       "      <td>293.00</td>\n",
       "      <td>0.05190</td>\n",
       "      <td>0.02580</td>\n",
       "      <td>2646.798653</td>\n",
       "    </tr>\n",
       "    <tr>\n",
       "      <th>1</th>\n",
       "      <td>295.00</td>\n",
       "      <td>0.05300</td>\n",
       "      <td>0.02500</td>\n",
       "      <td>2899.498700</td>\n",
       "    </tr>\n",
       "    <tr>\n",
       "      <th>2</th>\n",
       "      <td>296.00</td>\n",
       "      <td>0.05345</td>\n",
       "      <td>0.02440</td>\n",
       "      <td>3039.148726</td>\n",
       "    </tr>\n",
       "    <tr>\n",
       "      <th>3</th>\n",
       "      <td>297.00</td>\n",
       "      <td>0.05420</td>\n",
       "      <td>0.02360</td>\n",
       "      <td>3245.298765</td>\n",
       "    </tr>\n",
       "    <tr>\n",
       "      <th>4</th>\n",
       "      <td>298.00</td>\n",
       "      <td>0.05500</td>\n",
       "      <td>0.02295</td>\n",
       "      <td>3438.148801</td>\n",
       "    </tr>\n",
       "    <tr>\n",
       "      <th>6</th>\n",
       "      <td>300.00</td>\n",
       "      <td>0.05645</td>\n",
       "      <td>0.02185</td>\n",
       "      <td>3777.298865</td>\n",
       "    </tr>\n",
       "    <tr>\n",
       "      <th>7</th>\n",
       "      <td>301.00</td>\n",
       "      <td>0.05710</td>\n",
       "      <td>0.02110</td>\n",
       "      <td>3963.498900</td>\n",
       "    </tr>\n",
       "    <tr>\n",
       "      <th>8</th>\n",
       "      <td>302.00</td>\n",
       "      <td>0.05695</td>\n",
       "      <td>0.02020</td>\n",
       "      <td>4063.248919</td>\n",
       "    </tr>\n",
       "    <tr>\n",
       "      <th>9</th>\n",
       "      <td>303.00</td>\n",
       "      <td>0.05880</td>\n",
       "      <td>0.01955</td>\n",
       "      <td>4395.748981</td>\n",
       "    </tr>\n",
       "    <tr>\n",
       "      <th>10</th>\n",
       "      <td>304.00</td>\n",
       "      <td>0.05940</td>\n",
       "      <td>0.01880</td>\n",
       "      <td>4575.299015</td>\n",
       "    </tr>\n",
       "    <tr>\n",
       "      <th>11</th>\n",
       "      <td>305.00</td>\n",
       "      <td>0.06020</td>\n",
       "      <td>0.01810</td>\n",
       "      <td>4774.799053</td>\n",
       "    </tr>\n",
       "    <tr>\n",
       "      <th>12</th>\n",
       "      <td>306.00</td>\n",
       "      <td>0.06135</td>\n",
       "      <td>0.01690</td>\n",
       "      <td>5087.349111</td>\n",
       "    </tr>\n",
       "    <tr>\n",
       "      <th>13</th>\n",
       "      <td>307.00</td>\n",
       "      <td>0.06270</td>\n",
       "      <td>0.01565</td>\n",
       "      <td>5433.149176</td>\n",
       "    </tr>\n",
       "    <tr>\n",
       "      <th>14</th>\n",
       "      <td>308.00</td>\n",
       "      <td>0.06380</td>\n",
       "      <td>0.01470</td>\n",
       "      <td>5705.799227</td>\n",
       "    </tr>\n",
       "    <tr>\n",
       "      <th>15</th>\n",
       "      <td>309.00</td>\n",
       "      <td>0.06490</td>\n",
       "      <td>0.01355</td>\n",
       "      <td>6005.049284</td>\n",
       "    </tr>\n",
       "    <tr>\n",
       "      <th>16</th>\n",
       "      <td>310.00</td>\n",
       "      <td>0.06610</td>\n",
       "      <td>0.01240</td>\n",
       "      <td>6317.599343</td>\n",
       "    </tr>\n",
       "    <tr>\n",
       "      <th>17</th>\n",
       "      <td>311.00</td>\n",
       "      <td>0.06740</td>\n",
       "      <td>0.01100</td>\n",
       "      <td>6676.699410</td>\n",
       "    </tr>\n",
       "    <tr>\n",
       "      <th>18</th>\n",
       "      <td>312.00</td>\n",
       "      <td>0.06890</td>\n",
       "      <td>0.01000</td>\n",
       "      <td>7009.199473</td>\n",
       "    </tr>\n",
       "    <tr>\n",
       "      <th>19</th>\n",
       "      <td>313.00</td>\n",
       "      <td>0.07070</td>\n",
       "      <td>0.00830</td>\n",
       "      <td>7474.699560</td>\n",
       "    </tr>\n",
       "    <tr>\n",
       "      <th>20</th>\n",
       "      <td>310.93</td>\n",
       "      <td>0.06810</td>\n",
       "      <td>0.01050</td>\n",
       "      <td>6836.299440</td>\n",
       "    </tr>\n",
       "    <tr>\n",
       "      <th>21</th>\n",
       "      <td>310.03</td>\n",
       "      <td>0.06705</td>\n",
       "      <td>0.01190</td>\n",
       "      <td>6510.449379</td>\n",
       "    </tr>\n",
       "    <tr>\n",
       "      <th>22</th>\n",
       "      <td>309.04</td>\n",
       "      <td>0.06620</td>\n",
       "      <td>0.01295</td>\n",
       "      <td>6257.749331</td>\n",
       "    </tr>\n",
       "    <tr>\n",
       "      <th>23</th>\n",
       "      <td>308.00</td>\n",
       "      <td>0.06490</td>\n",
       "      <td>0.01420</td>\n",
       "      <td>5918.599267</td>\n",
       "    </tr>\n",
       "    <tr>\n",
       "      <th>24</th>\n",
       "      <td>307.04</td>\n",
       "      <td>0.06380</td>\n",
       "      <td>0.01525</td>\n",
       "      <td>5632.649214</td>\n",
       "    </tr>\n",
       "    <tr>\n",
       "      <th>25</th>\n",
       "      <td>305.98</td>\n",
       "      <td>0.06260</td>\n",
       "      <td>0.01640</td>\n",
       "      <td>5320.099155</td>\n",
       "    </tr>\n",
       "    <tr>\n",
       "      <th>26</th>\n",
       "      <td>305.05</td>\n",
       "      <td>0.06160</td>\n",
       "      <td>0.01700</td>\n",
       "      <td>5107.299115</td>\n",
       "    </tr>\n",
       "    <tr>\n",
       "      <th>27</th>\n",
       "      <td>303.98</td>\n",
       "      <td>0.06060</td>\n",
       "      <td>0.01820</td>\n",
       "      <td>4814.699060</td>\n",
       "    </tr>\n",
       "    <tr>\n",
       "      <th>28</th>\n",
       "      <td>303.02</td>\n",
       "      <td>0.05950</td>\n",
       "      <td>0.01890</td>\n",
       "      <td>4575.299015</td>\n",
       "    </tr>\n",
       "    <tr>\n",
       "      <th>29</th>\n",
       "      <td>302.02</td>\n",
       "      <td>0.05885</td>\n",
       "      <td>0.01980</td>\n",
       "      <td>4369.148976</td>\n",
       "    </tr>\n",
       "    <tr>\n",
       "      <th>30</th>\n",
       "      <td>301.04</td>\n",
       "      <td>0.05795</td>\n",
       "      <td>0.02060</td>\n",
       "      <td>4143.048934</td>\n",
       "    </tr>\n",
       "    <tr>\n",
       "      <th>31</th>\n",
       "      <td>300.03</td>\n",
       "      <td>0.05705</td>\n",
       "      <td>0.02160</td>\n",
       "      <td>3890.348886</td>\n",
       "    </tr>\n",
       "    <tr>\n",
       "      <th>32</th>\n",
       "      <td>299.03</td>\n",
       "      <td>0.05650</td>\n",
       "      <td>0.02210</td>\n",
       "      <td>3750.698860</td>\n",
       "    </tr>\n",
       "    <tr>\n",
       "      <th>33</th>\n",
       "      <td>298.03</td>\n",
       "      <td>0.05550</td>\n",
       "      <td>0.02270</td>\n",
       "      <td>3537.898820</td>\n",
       "    </tr>\n",
       "    <tr>\n",
       "      <th>34</th>\n",
       "      <td>297.03</td>\n",
       "      <td>0.05470</td>\n",
       "      <td>0.02340</td>\n",
       "      <td>3338.398782</td>\n",
       "    </tr>\n",
       "    <tr>\n",
       "      <th>35</th>\n",
       "      <td>296.04</td>\n",
       "      <td>0.05410</td>\n",
       "      <td>0.02400</td>\n",
       "      <td>3178.798753</td>\n",
       "    </tr>\n",
       "    <tr>\n",
       "      <th>36</th>\n",
       "      <td>295.05</td>\n",
       "      <td>0.05340</td>\n",
       "      <td>0.02455</td>\n",
       "      <td>3012.548721</td>\n",
       "    </tr>\n",
       "    <tr>\n",
       "      <th>37</th>\n",
       "      <td>294.03</td>\n",
       "      <td>0.05280</td>\n",
       "      <td>0.02530</td>\n",
       "      <td>2832.998687</td>\n",
       "    </tr>\n",
       "    <tr>\n",
       "      <th>38</th>\n",
       "      <td>293.05</td>\n",
       "      <td>0.05220</td>\n",
       "      <td>0.02580</td>\n",
       "      <td>2686.698660</td>\n",
       "    </tr>\n",
       "  </tbody>\n",
       "</table>\n",
       "</div>"
      ],
      "text/plain": [
       "         T       h1       h2            P\n",
       "0   293.00  0.05190  0.02580  2646.798653\n",
       "1   295.00  0.05300  0.02500  2899.498700\n",
       "2   296.00  0.05345  0.02440  3039.148726\n",
       "3   297.00  0.05420  0.02360  3245.298765\n",
       "4   298.00  0.05500  0.02295  3438.148801\n",
       "6   300.00  0.05645  0.02185  3777.298865\n",
       "7   301.00  0.05710  0.02110  3963.498900\n",
       "8   302.00  0.05695  0.02020  4063.248919\n",
       "9   303.00  0.05880  0.01955  4395.748981\n",
       "10  304.00  0.05940  0.01880  4575.299015\n",
       "11  305.00  0.06020  0.01810  4774.799053\n",
       "12  306.00  0.06135  0.01690  5087.349111\n",
       "13  307.00  0.06270  0.01565  5433.149176\n",
       "14  308.00  0.06380  0.01470  5705.799227\n",
       "15  309.00  0.06490  0.01355  6005.049284\n",
       "16  310.00  0.06610  0.01240  6317.599343\n",
       "17  311.00  0.06740  0.01100  6676.699410\n",
       "18  312.00  0.06890  0.01000  7009.199473\n",
       "19  313.00  0.07070  0.00830  7474.699560\n",
       "20  310.93  0.06810  0.01050  6836.299440\n",
       "21  310.03  0.06705  0.01190  6510.449379\n",
       "22  309.04  0.06620  0.01295  6257.749331\n",
       "23  308.00  0.06490  0.01420  5918.599267\n",
       "24  307.04  0.06380  0.01525  5632.649214\n",
       "25  305.98  0.06260  0.01640  5320.099155\n",
       "26  305.05  0.06160  0.01700  5107.299115\n",
       "27  303.98  0.06060  0.01820  4814.699060\n",
       "28  303.02  0.05950  0.01890  4575.299015\n",
       "29  302.02  0.05885  0.01980  4369.148976\n",
       "30  301.04  0.05795  0.02060  4143.048934\n",
       "31  300.03  0.05705  0.02160  3890.348886\n",
       "32  299.03  0.05650  0.02210  3750.698860\n",
       "33  298.03  0.05550  0.02270  3537.898820\n",
       "34  297.03  0.05470  0.02340  3338.398782\n",
       "35  296.04  0.05410  0.02400  3178.798753\n",
       "36  295.05  0.05340  0.02455  3012.548721\n",
       "37  294.03  0.05280  0.02530  2832.998687\n",
       "38  293.05  0.05220  0.02580  2686.698660"
      ]
     },
     "execution_count": 2,
     "metadata": {},
     "output_type": "execute_result"
    }
   ],
   "source": [
    "T_err = 0.05\n",
    "h_err = 0.005\n",
    "data = pd.read_csv(\"../data/data.csv\")\n",
    "data = data.drop(index=[5])\n",
    "data[\"h1\"] /= 100\n",
    "data[\"h2\"] /= 100\n",
    "data[\"P\"] = (data[\"h1\"] - data[\"h2\"]) * 9.8155 * 13550 - 0.084 * 1000 * 9.8155\n",
    "data"
   ]
  },
  {
   "cell_type": "code",
   "execution_count": 7,
   "id": "24df816e",
   "metadata": {
    "scrolled": false
   },
   "outputs": [
    {
     "data": {
      "image/png": "[encoded data removed]",
      "text/plain": [
       "<Figure size 640x480 with 1 Axes>"
      ]
     },
     "metadata": {},
     "output_type": "display_data"
    }
   ],
   "source": [
    "t_hot = data[\"T\"].iloc[:19]\n",
    "t_cool = data[\"T\"].iloc[19:]\n",
    "p_hot = data[\"P\"].iloc[:19]\n",
    "p_cool = data[\"P\"].iloc[19:]\n",
    "plt.plot(t_hot, p_hot, 'r.')\n",
    "plt.plot(t_cool, p_cool, 'b.')\n",
    "p, v = np.polyfit(data[\"T\"], data[\"P\"], 1, cov=True)\n",
    "a, b = p\n",
    "a_err, b_err = np.sqrt(v[0][0]), np.sqrt(v[1][1])\n",
    "plt.axline((295, 295 * a + b), (310, 310 * a + b))\n",
    "plt.xlabel(\"$T$, K\")\n",
    "plt.ylabel(\"$P$, Па\")\n",
    "plt.savefig(\"plot1.png\", dpi=400)"
   ]
  },
  {
   "cell_type": "code",
   "execution_count": 8,
   "id": "2888cc9a",
   "metadata": {},
   "outputs": [
    {
     "data": {
      "text/plain": [
       "(232.89125022067523, 5.8435972565159915)"
      ]
     },
     "execution_count": 8,
     "metadata": {},
     "output_type": "execute_result"
    }
   ],
   "source": [
    "a, a_err"
   ]
  },
  {
   "cell_type": "code",
   "execution_count": 4,
   "id": "9b33866e",
   "metadata": {},
   "outputs": [
    {
     "data": {
      "text/plain": [
       "(38272.99404261969, 960.3278902671728, 2.509152770221686)"
      ]
     },
     "execution_count": 4,
     "metadata": {},
     "output_type": "execute_result"
    }
   ],
   "source": [
    "L = 8.31 * data[\"T\"].mean() ** 2 / data[\"P\"].mean() * a\n",
    "L_err = 8.31 * data[\"T\"].mean() ** 2 / data[\"P\"].mean() * a_err\n",
    "L, L_err, L_err / L * 100"
   ]
  },
  {
   "cell_type": "code",
   "execution_count": 9,
   "id": "dd70ad22",
   "metadata": {
    "scrolled": true
   },
   "outputs": [
    {
     "data": {
      "image/png": "[encoded data removed]",
      "text/plain": [
       "<Figure size 640x480 with 1 Axes>"
      ]
     },
     "metadata": {},
     "output_type": "display_data"
    }
   ],
   "source": [
    "t1_hot = 1 / t_hot\n",
    "t1_cool = 1 / t_cool\n",
    "pln_hot = np.log(p_hot)\n",
    "pln_cool = np.log(p_cool)\n",
    "plt.plot(t1_hot, pln_hot, 'r.')\n",
    "plt.plot(t1_cool, pln_cool, 'b.')\n",
    "p, v = np.polyfit(1/data[\"T\"], np.log(data[\"P\"]), 1, cov=True)\n",
    "a, b = p\n",
    "a_err, b_err = np.sqrt(v[0][0]), np.sqrt(v[1][1])\n",
    "plt.axline((0.0032, 0.0032 * a + b), (0.0034, 0.0034 * a + b))\n",
    "plt.xlabel(\"$1/T$, K$^{-1}$\")\n",
    "plt.ylabel(\"$\\ln P$\")\n",
    "plt.savefig(\"plot2.png\", dpi=400)"
   ]
  },
  {
   "cell_type": "code",
   "execution_count": 6,
   "id": "934dc2e5",
   "metadata": {},
   "outputs": [
    {
     "data": {
      "text/plain": [
       "(39142.024806776695, 459.63939521134887, 1.174286198734847)"
      ]
     },
     "execution_count": 6,
     "metadata": {},
     "output_type": "execute_result"
    }
   ],
   "source": [
    "L2 = -a * 8.31\n",
    "L2_err = a_err * 8.31\n",
    "L2, L2_err, L2_err / L2 * 100"
   ]
  },
  {
   "cell_type": "code",
   "execution_count": 10,
   "id": "54f89a04",
   "metadata": {},
   "outputs": [
    {
     "data": {
      "text/plain": [
       "(-4710.231625364223, 55.31159990509613)"
      ]
     },
     "execution_count": 10,
     "metadata": {},
     "output_type": "execute_result"
    }
   ],
   "source": [
    "a, a_err"
   ]
  }
 ],
 "metadata": {
  "kernelspec": {
   "display_name": "Python 3 (ipykernel)",
   "language": "python",
   "name": "python3"
  },
  "language_info": {
   "codemirror_mode": {
    "name": "ipython",
    "version": 3
   },
   "file_extension": ".py",
   "mimetype": "text/x-python",
   "name": "python",
   "nbconvert_exporter": "python",
   "pygments_lexer": "ipython3",
   "version": "3.10.9"
  }
 },
 "nbformat": 4,
 "nbformat_minor": 5
}
