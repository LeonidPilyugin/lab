{
 "cells": [
  {
   "cell_type": "code",
   "execution_count": 1423,
   "id": "dcbbf132",
   "metadata": {},
   "outputs": [
    {
     "name": "stdout",
     "output_type": "stream",
     "text": [
      "Set up\n"
     ]
    }
   ],
   "source": [
    "import pandas as pd\n",
    "import numpy as np\n",
    "import matplotlib.pyplot as plt\n",
    "from math import pi\n",
    "print(\"Set up\")"
   ]
  },
  {
   "cell_type": "code",
   "execution_count": 1424,
   "id": "a2016a7f",
   "metadata": {},
   "outputs": [],
   "source": [
    "R = 114.6e-3\n",
    "R_err = 0.5e-3\n",
    "r = 30.2e-3\n",
    "r_err = 0.3e-3\n",
    "m = 956.7e-3\n",
    "m_err = 0.5e-3\n",
    "z0 = 2152e-3\n",
    "z0_err = 1.5e-3\n",
    "g = 9.8155\n",
    "g_err = 5e-4"
   ]
  },
  {
   "cell_type": "code",
   "execution_count": 1425,
   "id": "f4f9c8a5",
   "metadata": {},
   "outputs": [],
   "source": [
    "def compute_k(R, r, m, z0, g):\n",
    "    return g*r*R/4/pi/pi/z0"
   ]
  },
  {
   "cell_type": "code",
   "execution_count": 1426,
   "id": "5e40cc56",
   "metadata": {},
   "outputs": [
    {
     "data": {
      "text/plain": [
       "0.00039985449659095325"
      ]
     },
     "execution_count": 1426,
     "metadata": {},
     "output_type": "execute_result"
    }
   ],
   "source": [
    "k = compute_k(R, r, m, z0, g)\n",
    "k"
   ]
  },
  {
   "cell_type": "code",
   "execution_count": 1427,
   "id": "99bc1190",
   "metadata": {},
   "outputs": [
    {
     "data": {
      "text/plain": [
       "6.224683820464228e-06"
      ]
     },
     "execution_count": 1427,
     "metadata": {},
     "output_type": "execute_result"
    }
   ],
   "source": [
    "k_err = k * (R_err/R + r_err/r + m_err/m + z0_err/z0 + g_err/g)\n",
    "k_err"
   ]
  },
  {
   "cell_type": "code",
   "execution_count": 1428,
   "id": "296ce8c1",
   "metadata": {},
   "outputs": [],
   "source": [
    "m1 = 772.1e-3\n",
    "m2 = 584.7e-3"
   ]
  },
  {
   "cell_type": "code",
   "execution_count": 1429,
   "id": "d62d3298",
   "metadata": {},
   "outputs": [],
   "source": [
    "d1 = 158.8e-3\n",
    "d2 = 170.4e-3\n",
    "d_err = 0.05e-3"
   ]
  },
  {
   "cell_type": "code",
   "execution_count": 1430,
   "id": "79856468",
   "metadata": {},
   "outputs": [],
   "source": [
    "t0 = 122.622 / 30\n",
    "t1 = 120.560 / 30\n",
    "t2 = 110.816 / 30\n",
    "t3 = 113.214 / 30"
   ]
  },
  {
   "cell_type": "code",
   "execution_count": 1431,
   "id": "105347c6",
   "metadata": {},
   "outputs": [],
   "source": [
    "def innertion_momento(t, m):\n",
    "    return k * m * t ** 2"
   ]
  },
  {
   "cell_type": "code",
   "execution_count": 1432,
   "id": "67a1b583",
   "metadata": {},
   "outputs": [
    {
     "data": {
      "text/plain": [
       "0.0063910474127391636"
      ]
     },
     "execution_count": 1432,
     "metadata": {},
     "output_type": "execute_result"
    }
   ],
   "source": [
    "I0 = innertion_momento(t0, m)\n",
    "I0"
   ]
  },
  {
   "cell_type": "code",
   "execution_count": 1433,
   "id": "b375bee4",
   "metadata": {},
   "outputs": [
    {
     "data": {
      "text/plain": [
       "0.00010283196686122299"
      ]
     },
     "execution_count": 1433,
     "metadata": {},
     "output_type": "execute_result"
    }
   ],
   "source": [
    "I0_err = I0 * (m_err/m + k_err/k)\n",
    "I0_err"
   ]
  },
  {
   "cell_type": "code",
   "execution_count": 1434,
   "id": "f06927e1",
   "metadata": {},
   "outputs": [
    {
     "data": {
      "text/plain": [
       "0.011163765550375515"
      ]
     },
     "execution_count": 1434,
     "metadata": {},
     "output_type": "execute_result"
    }
   ],
   "source": [
    "I1 = innertion_momento(t1, m+m1)\n",
    "I1"
   ]
  },
  {
   "cell_type": "code",
   "execution_count": 1435,
   "id": "89b557da",
   "metadata": {},
   "outputs": [
    {
     "data": {
      "text/plain": [
       "0.0001810199764070392"
      ]
     },
     "execution_count": 1435,
     "metadata": {},
     "output_type": "execute_result"
    }
   ],
   "source": [
    "I1_err = I1 * (m_err/m1 + k_err/k)\n",
    "I1_err"
   ]
  },
  {
   "cell_type": "code",
   "execution_count": 1436,
   "id": "2856b5ba",
   "metadata": {},
   "outputs": [
    {
     "data": {
      "text/plain": [
       "0.00840968578236444"
      ]
     },
     "execution_count": 1436,
     "metadata": {},
     "output_type": "execute_result"
    }
   ],
   "source": [
    "I2 = innertion_momento(t2, m+m2)\n",
    "I2"
   ]
  },
  {
   "cell_type": "code",
   "execution_count": 1437,
   "id": "7562e196",
   "metadata": {},
   "outputs": [
    {
     "data": {
      "text/plain": [
       "0.00013810816318141143"
      ]
     },
     "execution_count": 1437,
     "metadata": {},
     "output_type": "execute_result"
    }
   ],
   "source": [
    "I2_err = I2 * (m_err/m2 + k_err/k)\n",
    "I2_err"
   ]
  },
  {
   "cell_type": "code",
   "execution_count": 1438,
   "id": "e69246f1",
   "metadata": {},
   "outputs": [
    {
     "data": {
      "text/plain": [
       "0.013174351557049165"
      ]
     },
     "execution_count": 1438,
     "metadata": {},
     "output_type": "execute_result"
    }
   ],
   "source": [
    "I3 = innertion_momento(t3, m+m2+m1)\n",
    "I3"
   ]
  },
  {
   "cell_type": "code",
   "execution_count": 1439,
   "id": "419798dc",
   "metadata": {},
   "outputs": [
    {
     "data": {
      "text/plain": [
       "0.00021635594262817593"
      ]
     },
     "execution_count": 1439,
     "metadata": {},
     "output_type": "execute_result"
    }
   ],
   "source": [
    "I3_err = I3 * (m_err/m2 + k_err/k)\n",
    "I3_err"
   ]
  },
  {
   "cell_type": "code",
   "execution_count": 1440,
   "id": "307b0fe4",
   "metadata": {},
   "outputs": [
    {
     "data": {
      "text/plain": [
       "0.0047727181376363515"
      ]
     },
     "execution_count": 1440,
     "metadata": {},
     "output_type": "execute_result"
    }
   ],
   "source": [
    "Ic = I1-I0\n",
    "Ic"
   ]
  },
  {
   "cell_type": "code",
   "execution_count": 1441,
   "id": "b1004c71",
   "metadata": {},
   "outputs": [
    {
     "data": {
      "text/plain": [
       "0.00028385194326826217"
      ]
     },
     "execution_count": 1441,
     "metadata": {},
     "output_type": "execute_result"
    }
   ],
   "source": [
    "Ic_err = I1_err + I0_err\n",
    "Ic_err"
   ]
  },
  {
   "cell_type": "code",
   "execution_count": 1442,
   "id": "204f36db",
   "metadata": {},
   "outputs": [
    {
     "data": {
      "text/plain": [
       "0.002018638369625277"
      ]
     },
     "execution_count": 1442,
     "metadata": {},
     "output_type": "execute_result"
    }
   ],
   "source": [
    "Id = I2-I0\n",
    "Id"
   ]
  },
  {
   "cell_type": "code",
   "execution_count": 1443,
   "id": "b5c38b07",
   "metadata": {},
   "outputs": [
    {
     "data": {
      "text/plain": [
       "0.0002409401300426344"
      ]
     },
     "execution_count": 1443,
     "metadata": {},
     "output_type": "execute_result"
    }
   ],
   "source": [
    "Id_err = I2_err + I0_err\n",
    "Id_err"
   ]
  },
  {
   "cell_type": "code",
   "execution_count": 1444,
   "id": "f008aac6",
   "metadata": {},
   "outputs": [
    {
     "data": {
      "text/plain": [
       "0.0048675963559999995"
      ]
     },
     "execution_count": 1444,
     "metadata": {},
     "output_type": "execute_result"
    }
   ],
   "source": [
    "Ict = m1 * (d1/2)**2\n",
    "Ict"
   ]
  },
  {
   "cell_type": "code",
   "execution_count": 1445,
   "id": "0f78f646",
   "metadata": {},
   "outputs": [
    {
     "data": {
      "text/plain": [
       "6.217417e-06"
      ]
     },
     "execution_count": 1445,
     "metadata": {},
     "output_type": "execute_result"
    }
   ],
   "source": [
    "Ict_errt = Ict * (2 * d_err / d1 + m_err / m1)\n",
    "Ict_errt"
   ]
  },
  {
   "cell_type": "markdown",
   "id": "371253eb",
   "metadata": {},
   "source": [
    "=================================="
   ]
  },
  {
   "cell_type": "code",
   "execution_count": 1446,
   "id": "57df9c22",
   "metadata": {},
   "outputs": [
    {
     "data": {
      "text/plain": [
       "0.019491800762546196"
      ]
     },
     "execution_count": 1446,
     "metadata": {},
     "output_type": "execute_result"
    }
   ],
   "source": [
    "Ict_err = 1 - Ic/Ict\n",
    "Ict_err"
   ]
  },
  {
   "cell_type": "code",
   "execution_count": 1447,
   "id": "9f661c8f",
   "metadata": {},
   "outputs": [
    {
     "data": {
      "text/plain": [
       "0.002122180344"
      ]
     },
     "execution_count": 1447,
     "metadata": {},
     "output_type": "execute_result"
    }
   ],
   "source": [
    "Idt = m2 * (d2/2)**2 / 2\n",
    "Idt"
   ]
  },
  {
   "cell_type": "code",
   "execution_count": 1448,
   "id": "fcd29445",
   "metadata": {},
   "outputs": [
    {
     "data": {
      "text/plain": [
       "3.0601709999999998e-06"
      ]
     },
     "execution_count": 1448,
     "metadata": {},
     "output_type": "execute_result"
    }
   ],
   "source": [
    "Idt_errt = Idt * (2 * d_err / d2 + m_err / m2)\n",
    "Idt_errt"
   ]
  },
  {
   "cell_type": "markdown",
   "id": "275c4205",
   "metadata": {},
   "source": [
    "====================================="
   ]
  },
  {
   "cell_type": "code",
   "execution_count": 1449,
   "id": "c323b1b0",
   "metadata": {},
   "outputs": [
    {
     "data": {
      "text/plain": [
       "0.0487903747989491"
      ]
     },
     "execution_count": 1449,
     "metadata": {},
     "output_type": "execute_result"
    }
   ],
   "source": [
    "Idt_err = 1 - Id / Idt\n",
    "Idt_err"
   ]
  },
  {
   "cell_type": "code",
   "execution_count": 1450,
   "id": "f45a51e0",
   "metadata": {},
   "outputs": [
    {
     "data": {
      "text/plain": [
       "0.006282247085999999"
      ]
     },
     "execution_count": 1450,
     "metadata": {},
     "output_type": "execute_result"
    }
   ],
   "source": [
    "I0t = m * R**2/2\n",
    "I0t"
   ]
  },
  {
   "cell_type": "code",
   "execution_count": 1451,
   "id": "873b4065",
   "metadata": {},
   "outputs": [
    {
     "data": {
      "text/plain": [
       "-0.017318695882182933"
      ]
     },
     "execution_count": 1451,
     "metadata": {},
     "output_type": "execute_result"
    }
   ],
   "source": [
    "I0t_err = 1 - I0/I0t\n",
    "I0t_err"
   ]
  },
  {
   "cell_type": "code",
   "execution_count": 1452,
   "id": "06a6ce61",
   "metadata": {},
   "outputs": [
    {
     "data": {
      "text/plain": [
       "0.006783304144310001"
      ]
     },
     "execution_count": 1452,
     "metadata": {},
     "output_type": "execute_result"
    }
   ],
   "source": [
    "Icd = I3 - I0\n",
    "Icd"
   ]
  },
  {
   "cell_type": "code",
   "execution_count": 1453,
   "id": "b35cc0a1",
   "metadata": {},
   "outputs": [
    {
     "data": {
      "text/plain": [
       "0.0003191879094893989"
      ]
     },
     "execution_count": 1453,
     "metadata": {},
     "output_type": "execute_result"
    }
   ],
   "source": [
    "Icd_err = I3_err + I0_err\n",
    "Icd_err"
   ]
  },
  {
   "cell_type": "code",
   "execution_count": 1454,
   "id": "ddad3045",
   "metadata": {},
   "outputs": [
    {
     "data": {
      "text/plain": [
       "0.006989776699999999"
      ]
     },
     "execution_count": 1454,
     "metadata": {},
     "output_type": "execute_result"
    }
   ],
   "source": [
    "Icdt = Ict + Idt\n",
    "Icdt"
   ]
  },
  {
   "cell_type": "code",
   "execution_count": 1455,
   "id": "e939247a",
   "metadata": {},
   "outputs": [
    {
     "data": {
      "text/plain": [
       "9.277588e-06"
      ]
     },
     "execution_count": 1455,
     "metadata": {},
     "output_type": "execute_result"
    }
   ],
   "source": [
    "Icdt_errt = Ict_errt + Idt_errt\n",
    "Icdt_errt"
   ]
  },
  {
   "cell_type": "code",
   "execution_count": 1456,
   "id": "fc287a64",
   "metadata": {},
   "outputs": [
    {
     "data": {
      "text/plain": [
       "0.02953922057195313"
      ]
     },
     "execution_count": 1456,
     "metadata": {},
     "output_type": "execute_result"
    }
   ],
   "source": [
    "Icdt_err = 1 - Icd/Icdt\n",
    "Icdt_err"
   ]
  },
  {
   "cell_type": "code",
   "execution_count": 1457,
   "id": "e1acc87a",
   "metadata": {},
   "outputs": [
    {
     "data": {
      "text/plain": [
       "0.006791356507261629"
      ]
     },
     "execution_count": 1457,
     "metadata": {},
     "output_type": "execute_result"
    }
   ],
   "source": [
    "Icpd = Ic + Id\n",
    "Icpd"
   ]
  },
  {
   "cell_type": "code",
   "execution_count": 1458,
   "id": "0f20f3f1",
   "metadata": {},
   "outputs": [
    {
     "data": {
      "text/plain": [
       "0.0005247920733108966"
      ]
     },
     "execution_count": 1458,
     "metadata": {},
     "output_type": "execute_result"
    }
   ],
   "source": [
    "Icpd_err = Ic_err + Id_err\n",
    "Icpd_err"
   ]
  },
  {
   "cell_type": "code",
   "execution_count": 1459,
   "id": "63348bc5",
   "metadata": {},
   "outputs": [
    {
     "data": {
      "text/plain": [
       "0.0011856781400030325"
      ]
     },
     "execution_count": 1459,
     "metadata": {},
     "output_type": "execute_result"
    }
   ],
   "source": [
    "1 - Icd/(Ic+Id)"
   ]
  },
  {
   "cell_type": "markdown",
   "id": "e54e58d1",
   "metadata": {},
   "source": [
    "# ========================"
   ]
  },
  {
   "cell_type": "code",
   "execution_count": 1460,
   "id": "9493c88c",
   "metadata": {},
   "outputs": [
    {
     "data": {
      "text/html": [
       "<div>\n",
       "<style scoped>\n",
       "    .dataframe tbody tr th:only-of-type {\n",
       "        vertical-align: middle;\n",
       "    }\n",
       "\n",
       "    .dataframe tbody tr th {\n",
       "        vertical-align: top;\n",
       "    }\n",
       "\n",
       "    .dataframe thead th {\n",
       "        text-align: right;\n",
       "    }\n",
       "</style>\n",
       "<table border=\"1\" class=\"dataframe\">\n",
       "  <thead>\n",
       "    <tr style=\"text-align: right;\">\n",
       "      <th></th>\n",
       "      <th>h</th>\n",
       "      <th>t</th>\n",
       "    </tr>\n",
       "  </thead>\n",
       "  <tbody>\n",
       "    <tr>\n",
       "      <th>0</th>\n",
       "      <td>0.0</td>\n",
       "      <td>92.395</td>\n",
       "    </tr>\n",
       "    <tr>\n",
       "      <th>1</th>\n",
       "      <td>0.5</td>\n",
       "      <td>93.161</td>\n",
       "    </tr>\n",
       "    <tr>\n",
       "      <th>2</th>\n",
       "      <td>1.0</td>\n",
       "      <td>94.038</td>\n",
       "    </tr>\n",
       "    <tr>\n",
       "      <th>3</th>\n",
       "      <td>1.5</td>\n",
       "      <td>94.372</td>\n",
       "    </tr>\n",
       "    <tr>\n",
       "      <th>4</th>\n",
       "      <td>2.0</td>\n",
       "      <td>96.208</td>\n",
       "    </tr>\n",
       "    <tr>\n",
       "      <th>5</th>\n",
       "      <td>2.5</td>\n",
       "      <td>98.146</td>\n",
       "    </tr>\n",
       "    <tr>\n",
       "      <th>6</th>\n",
       "      <td>3.0</td>\n",
       "      <td>99.669</td>\n",
       "    </tr>\n",
       "    <tr>\n",
       "      <th>7</th>\n",
       "      <td>3.5</td>\n",
       "      <td>102.434</td>\n",
       "    </tr>\n",
       "    <tr>\n",
       "      <th>8</th>\n",
       "      <td>4.0</td>\n",
       "      <td>104.254</td>\n",
       "    </tr>\n",
       "    <tr>\n",
       "      <th>9</th>\n",
       "      <td>4.5</td>\n",
       "      <td>106.417</td>\n",
       "    </tr>\n",
       "    <tr>\n",
       "      <th>10</th>\n",
       "      <td>5.0</td>\n",
       "      <td>110.252</td>\n",
       "    </tr>\n",
       "    <tr>\n",
       "      <th>11</th>\n",
       "      <td>5.5</td>\n",
       "      <td>113.689</td>\n",
       "    </tr>\n",
       "    <tr>\n",
       "      <th>12</th>\n",
       "      <td>6.0</td>\n",
       "      <td>116.311</td>\n",
       "    </tr>\n",
       "    <tr>\n",
       "      <th>13</th>\n",
       "      <td>6.5</td>\n",
       "      <td>120.030</td>\n",
       "    </tr>\n",
       "    <tr>\n",
       "      <th>14</th>\n",
       "      <td>7.0</td>\n",
       "      <td>123.869</td>\n",
       "    </tr>\n",
       "    <tr>\n",
       "      <th>15</th>\n",
       "      <td>7.5</td>\n",
       "      <td>128.324</td>\n",
       "    </tr>\n",
       "  </tbody>\n",
       "</table>\n",
       "</div>"
      ],
      "text/plain": [
       "      h        t\n",
       "0   0.0   92.395\n",
       "1   0.5   93.161\n",
       "2   1.0   94.038\n",
       "3   1.5   94.372\n",
       "4   2.0   96.208\n",
       "5   2.5   98.146\n",
       "6   3.0   99.669\n",
       "7   3.5  102.434\n",
       "8   4.0  104.254\n",
       "9   4.5  106.417\n",
       "10  5.0  110.252\n",
       "11  5.5  113.689\n",
       "12  6.0  116.311\n",
       "13  6.5  120.030\n",
       "14  7.0  123.869\n",
       "15  7.5  128.324"
      ]
     },
     "execution_count": 1460,
     "metadata": {},
     "output_type": "execute_result"
    }
   ],
   "source": [
    "data1 = pd.read_csv(\"../data/data1.csv\")\n",
    "data1"
   ]
  },
  {
   "cell_type": "code",
   "execution_count": 1461,
   "id": "7016a02b",
   "metadata": {},
   "outputs": [
    {
     "data": {
      "text/html": [
       "<div>\n",
       "<style scoped>\n",
       "    .dataframe tbody tr th:only-of-type {\n",
       "        vertical-align: middle;\n",
       "    }\n",
       "\n",
       "    .dataframe tbody tr th {\n",
       "        vertical-align: top;\n",
       "    }\n",
       "\n",
       "    .dataframe thead th {\n",
       "        text-align: right;\n",
       "    }\n",
       "</style>\n",
       "<table border=\"1\" class=\"dataframe\">\n",
       "  <thead>\n",
       "    <tr style=\"text-align: right;\">\n",
       "      <th></th>\n",
       "      <th>h</th>\n",
       "      <th>t</th>\n",
       "    </tr>\n",
       "  </thead>\n",
       "  <tbody>\n",
       "    <tr>\n",
       "      <th>0</th>\n",
       "      <td>0.0</td>\n",
       "      <td>92.433</td>\n",
       "    </tr>\n",
       "    <tr>\n",
       "      <th>1</th>\n",
       "      <td>0.5</td>\n",
       "      <td>94.583</td>\n",
       "    </tr>\n",
       "    <tr>\n",
       "      <th>2</th>\n",
       "      <td>1.0</td>\n",
       "      <td>97.059</td>\n",
       "    </tr>\n",
       "    <tr>\n",
       "      <th>3</th>\n",
       "      <td>1.5</td>\n",
       "      <td>99.721</td>\n",
       "    </tr>\n",
       "    <tr>\n",
       "      <th>4</th>\n",
       "      <td>2.0</td>\n",
       "      <td>102.367</td>\n",
       "    </tr>\n",
       "    <tr>\n",
       "      <th>5</th>\n",
       "      <td>2.5</td>\n",
       "      <td>106.430</td>\n",
       "    </tr>\n",
       "    <tr>\n",
       "      <th>6</th>\n",
       "      <td>3.0</td>\n",
       "      <td>109.910</td>\n",
       "    </tr>\n",
       "    <tr>\n",
       "      <th>7</th>\n",
       "      <td>3.5</td>\n",
       "      <td>113.010</td>\n",
       "    </tr>\n",
       "    <tr>\n",
       "      <th>8</th>\n",
       "      <td>4.0</td>\n",
       "      <td>116.953</td>\n",
       "    </tr>\n",
       "    <tr>\n",
       "      <th>9</th>\n",
       "      <td>4.5</td>\n",
       "      <td>120.367</td>\n",
       "    </tr>\n",
       "    <tr>\n",
       "      <th>10</th>\n",
       "      <td>5.0</td>\n",
       "      <td>125.733</td>\n",
       "    </tr>\n",
       "    <tr>\n",
       "      <th>11</th>\n",
       "      <td>5.5</td>\n",
       "      <td>130.315</td>\n",
       "    </tr>\n",
       "    <tr>\n",
       "      <th>12</th>\n",
       "      <td>6.0</td>\n",
       "      <td>134.548</td>\n",
       "    </tr>\n",
       "    <tr>\n",
       "      <th>13</th>\n",
       "      <td>6.5</td>\n",
       "      <td>137.253</td>\n",
       "    </tr>\n",
       "  </tbody>\n",
       "</table>\n",
       "</div>"
      ],
      "text/plain": [
       "      h        t\n",
       "0   0.0   92.433\n",
       "1   0.5   94.583\n",
       "2   1.0   97.059\n",
       "3   1.5   99.721\n",
       "4   2.0  102.367\n",
       "5   2.5  106.430\n",
       "6   3.0  109.910\n",
       "7   3.5  113.010\n",
       "8   4.0  116.953\n",
       "9   4.5  120.367\n",
       "10  5.0  125.733\n",
       "11  5.5  130.315\n",
       "12  6.0  134.548\n",
       "13  6.5  137.253"
      ]
     },
     "execution_count": 1461,
     "metadata": {},
     "output_type": "execute_result"
    }
   ],
   "source": [
    "data2 = pd.read_csv(\"../data/data2.csv\")\n",
    "data2"
   ]
  },
  {
   "cell_type": "code",
   "execution_count": 1462,
   "id": "69d2f161",
   "metadata": {
    "scrolled": true
   },
   "outputs": [
    {
     "data": {
      "text/html": [
       "<div>\n",
       "<style scoped>\n",
       "    .dataframe tbody tr th:only-of-type {\n",
       "        vertical-align: middle;\n",
       "    }\n",
       "\n",
       "    .dataframe tbody tr th {\n",
       "        vertical-align: top;\n",
       "    }\n",
       "\n",
       "    .dataframe thead th {\n",
       "        text-align: right;\n",
       "    }\n",
       "</style>\n",
       "<table border=\"1\" class=\"dataframe\">\n",
       "  <thead>\n",
       "    <tr style=\"text-align: right;\">\n",
       "      <th></th>\n",
       "      <th>h</th>\n",
       "      <th>t</th>\n",
       "      <th>h2</th>\n",
       "      <th>t2</th>\n",
       "      <th>h2err</th>\n",
       "    </tr>\n",
       "  </thead>\n",
       "  <tbody>\n",
       "    <tr>\n",
       "      <th>0</th>\n",
       "      <td>0.000</td>\n",
       "      <td>3.079833</td>\n",
       "      <td>0.000000</td>\n",
       "      <td>9.485373</td>\n",
       "      <td>0.001</td>\n",
       "    </tr>\n",
       "    <tr>\n",
       "      <th>1</th>\n",
       "      <td>0.005</td>\n",
       "      <td>3.105367</td>\n",
       "      <td>0.000025</td>\n",
       "      <td>9.643302</td>\n",
       "      <td>0.001</td>\n",
       "    </tr>\n",
       "    <tr>\n",
       "      <th>2</th>\n",
       "      <td>0.010</td>\n",
       "      <td>3.134600</td>\n",
       "      <td>0.000100</td>\n",
       "      <td>9.825717</td>\n",
       "      <td>0.001</td>\n",
       "    </tr>\n",
       "    <tr>\n",
       "      <th>3</th>\n",
       "      <td>0.015</td>\n",
       "      <td>3.145733</td>\n",
       "      <td>0.000225</td>\n",
       "      <td>9.895638</td>\n",
       "      <td>0.001</td>\n",
       "    </tr>\n",
       "    <tr>\n",
       "      <th>4</th>\n",
       "      <td>0.020</td>\n",
       "      <td>3.206933</td>\n",
       "      <td>0.000400</td>\n",
       "      <td>10.284421</td>\n",
       "      <td>0.001</td>\n",
       "    </tr>\n",
       "    <tr>\n",
       "      <th>5</th>\n",
       "      <td>0.025</td>\n",
       "      <td>3.271533</td>\n",
       "      <td>0.000625</td>\n",
       "      <td>10.702930</td>\n",
       "      <td>0.001</td>\n",
       "    </tr>\n",
       "    <tr>\n",
       "      <th>6</th>\n",
       "      <td>0.030</td>\n",
       "      <td>3.322300</td>\n",
       "      <td>0.000900</td>\n",
       "      <td>11.037677</td>\n",
       "      <td>0.001</td>\n",
       "    </tr>\n",
       "    <tr>\n",
       "      <th>7</th>\n",
       "      <td>0.035</td>\n",
       "      <td>3.414467</td>\n",
       "      <td>0.001225</td>\n",
       "      <td>11.658583</td>\n",
       "      <td>0.001</td>\n",
       "    </tr>\n",
       "    <tr>\n",
       "      <th>8</th>\n",
       "      <td>0.040</td>\n",
       "      <td>3.475133</td>\n",
       "      <td>0.001600</td>\n",
       "      <td>12.076552</td>\n",
       "      <td>0.001</td>\n",
       "    </tr>\n",
       "    <tr>\n",
       "      <th>9</th>\n",
       "      <td>0.045</td>\n",
       "      <td>3.547233</td>\n",
       "      <td>0.002025</td>\n",
       "      <td>12.582864</td>\n",
       "      <td>0.001</td>\n",
       "    </tr>\n",
       "    <tr>\n",
       "      <th>10</th>\n",
       "      <td>0.050</td>\n",
       "      <td>3.675067</td>\n",
       "      <td>0.002500</td>\n",
       "      <td>13.506115</td>\n",
       "      <td>0.001</td>\n",
       "    </tr>\n",
       "    <tr>\n",
       "      <th>11</th>\n",
       "      <td>0.055</td>\n",
       "      <td>3.789633</td>\n",
       "      <td>0.003025</td>\n",
       "      <td>14.361321</td>\n",
       "      <td>0.001</td>\n",
       "    </tr>\n",
       "    <tr>\n",
       "      <th>12</th>\n",
       "      <td>0.060</td>\n",
       "      <td>3.877033</td>\n",
       "      <td>0.003600</td>\n",
       "      <td>15.031387</td>\n",
       "      <td>0.001</td>\n",
       "    </tr>\n",
       "    <tr>\n",
       "      <th>13</th>\n",
       "      <td>0.065</td>\n",
       "      <td>4.001000</td>\n",
       "      <td>0.004225</td>\n",
       "      <td>16.008001</td>\n",
       "      <td>0.001</td>\n",
       "    </tr>\n",
       "    <tr>\n",
       "      <th>14</th>\n",
       "      <td>0.070</td>\n",
       "      <td>4.128967</td>\n",
       "      <td>0.004900</td>\n",
       "      <td>17.048366</td>\n",
       "      <td>0.001</td>\n",
       "    </tr>\n",
       "    <tr>\n",
       "      <th>15</th>\n",
       "      <td>0.075</td>\n",
       "      <td>4.277467</td>\n",
       "      <td>0.005625</td>\n",
       "      <td>18.296721</td>\n",
       "      <td>0.001</td>\n",
       "    </tr>\n",
       "  </tbody>\n",
       "</table>\n",
       "</div>"
      ],
      "text/plain": [
       "        h         t        h2         t2  h2err\n",
       "0   0.000  3.079833  0.000000   9.485373  0.001\n",
       "1   0.005  3.105367  0.000025   9.643302  0.001\n",
       "2   0.010  3.134600  0.000100   9.825717  0.001\n",
       "3   0.015  3.145733  0.000225   9.895638  0.001\n",
       "4   0.020  3.206933  0.000400  10.284421  0.001\n",
       "5   0.025  3.271533  0.000625  10.702930  0.001\n",
       "6   0.030  3.322300  0.000900  11.037677  0.001\n",
       "7   0.035  3.414467  0.001225  11.658583  0.001\n",
       "8   0.040  3.475133  0.001600  12.076552  0.001\n",
       "9   0.045  3.547233  0.002025  12.582864  0.001\n",
       "10  0.050  3.675067  0.002500  13.506115  0.001\n",
       "11  0.055  3.789633  0.003025  14.361321  0.001\n",
       "12  0.060  3.877033  0.003600  15.031387  0.001\n",
       "13  0.065  4.001000  0.004225  16.008001  0.001\n",
       "14  0.070  4.128967  0.004900  17.048366  0.001\n",
       "15  0.075  4.277467  0.005625  18.296721  0.001"
      ]
     },
     "execution_count": 1462,
     "metadata": {},
     "output_type": "execute_result"
    }
   ],
   "source": [
    "data1[\"h\"] = data1[\"h\"]/100\n",
    "data1[\"t\"] = data1[\"t\"]/30\n",
    "data1[\"h2\"] = data1[\"h\"]**2\n",
    "data1[\"t2\"] = data1[\"t\"]**2\n",
    "data1[\"h2err\"] = 0.001\n",
    "data1"
   ]
  },
  {
   "cell_type": "code",
   "execution_count": 1463,
   "id": "8b02f5da",
   "metadata": {},
   "outputs": [
    {
     "data": {
      "text/plain": [
       "(1525.4849552098378, 9.634683500600385)"
      ]
     },
     "execution_count": 1463,
     "metadata": {},
     "output_type": "execute_result"
    }
   ],
   "source": [
    "a, b = np.polyfit(data1[\"h2\"], data1[\"t2\"], 1)\n",
    "a, b"
   ]
  },
  {
   "cell_type": "code",
   "execution_count": 1464,
   "id": "ccf1cd72",
   "metadata": {},
   "outputs": [
    {
     "data": {
      "text/plain": [
       "12.64367815721096"
      ]
     },
     "execution_count": 1464,
     "metadata": {},
     "output_type": "execute_result"
    }
   ],
   "source": [
    "a_err = np.sqrt(1/16*((((data1.t2-data1.t2.mean())**2).mean()) / ((data1.h2-data1.h2.mean())**2).mean()-a**2))\n",
    "a_err"
   ]
  },
  {
   "cell_type": "code",
   "execution_count": 1465,
   "id": "18ca7fdc",
   "metadata": {},
   "outputs": [
    {
     "data": {
      "text/plain": [
       "1.4962009357526491"
      ]
     },
     "execution_count": 1465,
     "metadata": {},
     "output_type": "execute_result"
    }
   ],
   "source": [
    "(m/(1/a/k-1))"
   ]
  },
  {
   "cell_type": "code",
   "execution_count": 1466,
   "id": "cd88b4e3",
   "metadata": {},
   "outputs": [
    {
     "data": {
      "text/plain": [
       "0.02680058760100934"
      ]
     },
     "execution_count": 1466,
     "metadata": {},
     "output_type": "execute_result"
    }
   ],
   "source": [
    "1.5363/(m/(1/a/k-1)) - 1"
   ]
  },
  {
   "cell_type": "code",
   "execution_count": 1467,
   "id": "2419e5c5",
   "metadata": {
    "scrolled": true
   },
   "outputs": [
    {
     "data": {
      "image/png": "[encoded data removed]",
      "text/plain": [
       "<Figure size 640x480 with 1 Axes>"
      ]
     },
     "metadata": {},
     "output_type": "display_data"
    }
   ],
   "source": [
    "plt.errorbar(data1[\"h2\"], data1[\"t2\"], xerr=data1[\"h2err\"], fmt='r.')\n",
    "plt.axline((0, b), (0.005, 0.005 * a + b), linestyle='--')\n",
    "plt.grid(True)\n",
    "plt.title(\"Зависимость $T^2$ от $h^2$\")\n",
    "plt.xlabel(\"$h^2$, м$^2$\")\n",
    "plt.ylabel(\"$T^2$, с$^2$\")\n",
    "plt.savefig(\"../img/cool-plot.png\")"
   ]
  },
  {
   "cell_type": "code",
   "execution_count": 1468,
   "id": "be9081a5",
   "metadata": {},
   "outputs": [
    {
     "data": {
      "text/plain": [
       "0.0029122396832030667"
      ]
     },
     "execution_count": 1468,
     "metadata": {},
     "output_type": "execute_result"
    }
   ],
   "source": [
    "k*(m/(1/a/k-1)+m)*data1.t2[0]-I0"
   ]
  },
  {
   "cell_type": "code",
   "execution_count": 1469,
   "id": "a4744a74",
   "metadata": {},
   "outputs": [],
   "source": [
    "d = 0.1256\n",
    "x = 2 * d / 3 / np.pi"
   ]
  },
  {
   "cell_type": "code",
   "execution_count": 1470,
   "id": "b71ca586",
   "metadata": {},
   "outputs": [
    {
     "data": {
      "text/html": [
       "<div>\n",
       "<style scoped>\n",
       "    .dataframe tbody tr th:only-of-type {\n",
       "        vertical-align: middle;\n",
       "    }\n",
       "\n",
       "    .dataframe tbody tr th {\n",
       "        vertical-align: top;\n",
       "    }\n",
       "\n",
       "    .dataframe thead th {\n",
       "        text-align: right;\n",
       "    }\n",
       "</style>\n",
       "<table border=\"1\" class=\"dataframe\">\n",
       "  <thead>\n",
       "    <tr style=\"text-align: right;\">\n",
       "      <th></th>\n",
       "      <th>h</th>\n",
       "      <th>t</th>\n",
       "    </tr>\n",
       "  </thead>\n",
       "  <tbody>\n",
       "    <tr>\n",
       "      <th>0</th>\n",
       "      <td>0.0</td>\n",
       "      <td>92.433</td>\n",
       "    </tr>\n",
       "    <tr>\n",
       "      <th>1</th>\n",
       "      <td>0.5</td>\n",
       "      <td>94.583</td>\n",
       "    </tr>\n",
       "    <tr>\n",
       "      <th>2</th>\n",
       "      <td>1.0</td>\n",
       "      <td>97.059</td>\n",
       "    </tr>\n",
       "    <tr>\n",
       "      <th>3</th>\n",
       "      <td>1.5</td>\n",
       "      <td>99.721</td>\n",
       "    </tr>\n",
       "    <tr>\n",
       "      <th>4</th>\n",
       "      <td>2.0</td>\n",
       "      <td>102.367</td>\n",
       "    </tr>\n",
       "    <tr>\n",
       "      <th>5</th>\n",
       "      <td>2.5</td>\n",
       "      <td>106.430</td>\n",
       "    </tr>\n",
       "    <tr>\n",
       "      <th>6</th>\n",
       "      <td>3.0</td>\n",
       "      <td>109.910</td>\n",
       "    </tr>\n",
       "    <tr>\n",
       "      <th>7</th>\n",
       "      <td>3.5</td>\n",
       "      <td>113.010</td>\n",
       "    </tr>\n",
       "    <tr>\n",
       "      <th>8</th>\n",
       "      <td>4.0</td>\n",
       "      <td>116.953</td>\n",
       "    </tr>\n",
       "    <tr>\n",
       "      <th>9</th>\n",
       "      <td>4.5</td>\n",
       "      <td>120.367</td>\n",
       "    </tr>\n",
       "    <tr>\n",
       "      <th>10</th>\n",
       "      <td>5.0</td>\n",
       "      <td>125.733</td>\n",
       "    </tr>\n",
       "    <tr>\n",
       "      <th>11</th>\n",
       "      <td>5.5</td>\n",
       "      <td>130.315</td>\n",
       "    </tr>\n",
       "    <tr>\n",
       "      <th>12</th>\n",
       "      <td>6.0</td>\n",
       "      <td>134.548</td>\n",
       "    </tr>\n",
       "    <tr>\n",
       "      <th>13</th>\n",
       "      <td>6.5</td>\n",
       "      <td>137.253</td>\n",
       "    </tr>\n",
       "  </tbody>\n",
       "</table>\n",
       "</div>"
      ],
      "text/plain": [
       "      h        t\n",
       "0   0.0   92.433\n",
       "1   0.5   94.583\n",
       "2   1.0   97.059\n",
       "3   1.5   99.721\n",
       "4   2.0  102.367\n",
       "5   2.5  106.430\n",
       "6   3.0  109.910\n",
       "7   3.5  113.010\n",
       "8   4.0  116.953\n",
       "9   4.5  120.367\n",
       "10  5.0  125.733\n",
       "11  5.5  130.315\n",
       "12  6.0  134.548\n",
       "13  6.5  137.253"
      ]
     },
     "execution_count": 1470,
     "metadata": {},
     "output_type": "execute_result"
    }
   ],
   "source": [
    "data2"
   ]
  },
  {
   "cell_type": "code",
   "execution_count": 1471,
   "id": "6a7d8f0f",
   "metadata": {
    "scrolled": true
   },
   "outputs": [
    {
     "data": {
      "text/html": [
       "<div>\n",
       "<style scoped>\n",
       "    .dataframe tbody tr th:only-of-type {\n",
       "        vertical-align: middle;\n",
       "    }\n",
       "\n",
       "    .dataframe tbody tr th {\n",
       "        vertical-align: top;\n",
       "    }\n",
       "\n",
       "    .dataframe thead th {\n",
       "        text-align: right;\n",
       "    }\n",
       "</style>\n",
       "<table border=\"1\" class=\"dataframe\">\n",
       "  <thead>\n",
       "    <tr style=\"text-align: right;\">\n",
       "      <th></th>\n",
       "      <th>h</th>\n",
       "      <th>t</th>\n",
       "      <th>y2</th>\n",
       "      <th>t2</th>\n",
       "      <th>y2err</th>\n",
       "    </tr>\n",
       "  </thead>\n",
       "  <tbody>\n",
       "    <tr>\n",
       "      <th>0</th>\n",
       "      <td>0.000</td>\n",
       "      <td>3.081100</td>\n",
       "      <td>0.000710</td>\n",
       "      <td>9.493177</td>\n",
       "      <td>0.001</td>\n",
       "    </tr>\n",
       "    <tr>\n",
       "      <th>1</th>\n",
       "      <td>0.005</td>\n",
       "      <td>3.152767</td>\n",
       "      <td>0.001002</td>\n",
       "      <td>9.939938</td>\n",
       "      <td>0.001</td>\n",
       "    </tr>\n",
       "    <tr>\n",
       "      <th>2</th>\n",
       "      <td>0.010</td>\n",
       "      <td>3.235300</td>\n",
       "      <td>0.001343</td>\n",
       "      <td>10.467166</td>\n",
       "      <td>0.001</td>\n",
       "    </tr>\n",
       "    <tr>\n",
       "      <th>3</th>\n",
       "      <td>0.015</td>\n",
       "      <td>3.324033</td>\n",
       "      <td>0.001735</td>\n",
       "      <td>11.049198</td>\n",
       "      <td>0.001</td>\n",
       "    </tr>\n",
       "    <tr>\n",
       "      <th>4</th>\n",
       "      <td>0.020</td>\n",
       "      <td>3.412233</td>\n",
       "      <td>0.002177</td>\n",
       "      <td>11.643336</td>\n",
       "      <td>0.001</td>\n",
       "    </tr>\n",
       "    <tr>\n",
       "      <th>5</th>\n",
       "      <td>0.025</td>\n",
       "      <td>3.547667</td>\n",
       "      <td>0.002668</td>\n",
       "      <td>12.585939</td>\n",
       "      <td>0.001</td>\n",
       "    </tr>\n",
       "    <tr>\n",
       "      <th>6</th>\n",
       "      <td>0.030</td>\n",
       "      <td>3.663667</td>\n",
       "      <td>0.003210</td>\n",
       "      <td>13.422453</td>\n",
       "      <td>0.001</td>\n",
       "    </tr>\n",
       "    <tr>\n",
       "      <th>7</th>\n",
       "      <td>0.035</td>\n",
       "      <td>3.767000</td>\n",
       "      <td>0.003801</td>\n",
       "      <td>14.190289</td>\n",
       "      <td>0.001</td>\n",
       "    </tr>\n",
       "    <tr>\n",
       "      <th>8</th>\n",
       "      <td>0.040</td>\n",
       "      <td>3.898433</td>\n",
       "      <td>0.004443</td>\n",
       "      <td>15.197782</td>\n",
       "      <td>0.001</td>\n",
       "    </tr>\n",
       "    <tr>\n",
       "      <th>9</th>\n",
       "      <td>0.045</td>\n",
       "      <td>4.012233</td>\n",
       "      <td>0.005134</td>\n",
       "      <td>16.098016</td>\n",
       "      <td>0.001</td>\n",
       "    </tr>\n",
       "    <tr>\n",
       "      <th>10</th>\n",
       "      <td>0.050</td>\n",
       "      <td>4.191100</td>\n",
       "      <td>0.005876</td>\n",
       "      <td>17.565319</td>\n",
       "      <td>0.001</td>\n",
       "    </tr>\n",
       "    <tr>\n",
       "      <th>11</th>\n",
       "      <td>0.055</td>\n",
       "      <td>4.343833</td>\n",
       "      <td>0.006667</td>\n",
       "      <td>18.868888</td>\n",
       "      <td>0.001</td>\n",
       "    </tr>\n",
       "    <tr>\n",
       "      <th>12</th>\n",
       "      <td>0.060</td>\n",
       "      <td>4.484933</td>\n",
       "      <td>0.007509</td>\n",
       "      <td>20.114627</td>\n",
       "      <td>0.001</td>\n",
       "    </tr>\n",
       "    <tr>\n",
       "      <th>13</th>\n",
       "      <td>0.065</td>\n",
       "      <td>4.575100</td>\n",
       "      <td>0.008400</td>\n",
       "      <td>20.931540</td>\n",
       "      <td>0.001</td>\n",
       "    </tr>\n",
       "  </tbody>\n",
       "</table>\n",
       "</div>"
      ],
      "text/plain": [
       "        h         t        y2         t2  y2err\n",
       "0   0.000  3.081100  0.000710   9.493177  0.001\n",
       "1   0.005  3.152767  0.001002   9.939938  0.001\n",
       "2   0.010  3.235300  0.001343  10.467166  0.001\n",
       "3   0.015  3.324033  0.001735  11.049198  0.001\n",
       "4   0.020  3.412233  0.002177  11.643336  0.001\n",
       "5   0.025  3.547667  0.002668  12.585939  0.001\n",
       "6   0.030  3.663667  0.003210  13.422453  0.001\n",
       "7   0.035  3.767000  0.003801  14.190289  0.001\n",
       "8   0.040  3.898433  0.004443  15.197782  0.001\n",
       "9   0.045  4.012233  0.005134  16.098016  0.001\n",
       "10  0.050  4.191100  0.005876  17.565319  0.001\n",
       "11  0.055  4.343833  0.006667  18.868888  0.001\n",
       "12  0.060  4.484933  0.007509  20.114627  0.001\n",
       "13  0.065  4.575100  0.008400  20.931540  0.001"
      ]
     },
     "execution_count": 1471,
     "metadata": {},
     "output_type": "execute_result"
    }
   ],
   "source": [
    "data2[\"h\"] /= 100\n",
    "data2[\"y2\"] = (data2.h+x)**2\n",
    "data2[\"t\"] /= 30\n",
    "data2[\"t2\"] = data2.t**2\n",
    "data2[\"y2err\"] = 0.001\n",
    "data2"
   ]
  },
  {
   "cell_type": "code",
   "execution_count": 1472,
   "id": "7504ec30",
   "metadata": {
    "scrolled": true
   },
   "outputs": [
    {
     "data": {
      "text/plain": [
       "(1531.8823798632232, 8.415161619937768)"
      ]
     },
     "execution_count": 1472,
     "metadata": {},
     "output_type": "execute_result"
    }
   ],
   "source": [
    "a, b = np.polyfit(data2[\"y2\"], data2[\"t2\"], 1)\n",
    "a, b"
   ]
  },
  {
   "cell_type": "code",
   "execution_count": 1473,
   "id": "92ad830e",
   "metadata": {},
   "outputs": [
    {
     "data": {
      "text/plain": [
       "16.99800532196931"
      ]
     },
     "execution_count": 1473,
     "metadata": {},
     "output_type": "execute_result"
    }
   ],
   "source": [
    "a_err = np.sqrt(1/13*((((data2.t2-data2.t2.mean())**2).mean()) / ((data2.y2-data2.y2.mean())**2).mean()-a**2))\n",
    "a_err"
   ]
  },
  {
   "cell_type": "code",
   "execution_count": 1474,
   "id": "5509f11d",
   "metadata": {},
   "outputs": [
    {
     "data": {
      "image/png": "[encoded data removed]",
      "text/plain": [
       "<Figure size 640x480 with 1 Axes>"
      ]
     },
     "metadata": {},
     "output_type": "display_data"
    }
   ],
   "source": [
    "plt.errorbar(data2[\"y2\"], data2[\"t2\"], xerr=data2[\"y2err\"], fmt='r.')\n",
    "plt.axline((0.001, 0.001*a+b), (0.005, 0.005 * a + b), linestyle='--')\n",
    "plt.grid(True)\n",
    "plt.title(\"Зависимость $T^2$ от $(x+h)^2$\")\n",
    "plt.xlabel(\"$(x+h)^2$, м$^2$\")\n",
    "plt.ylabel(\"$T^2$, с$^2$\")\n",
    "plt.savefig(\"../img/fucking-plot.png\")"
   ]
  },
  {
   "cell_type": "code",
   "execution_count": 1475,
   "id": "0d5ba42b",
   "metadata": {},
   "outputs": [
    {
     "data": {
      "text/plain": [
       "0      92.433818\n",
       "1      94.573451\n",
       "2      97.020047\n",
       "3      99.751023\n",
       "4     102.743703\n",
       "5     105.975919\n",
       "6     109.426447\n",
       "7     113.075304\n",
       "8     116.903919\n",
       "9     120.895216\n",
       "10    125.033616\n",
       "11    129.304997\n",
       "12    133.696612\n",
       "13    138.197001\n",
       "Name: h, dtype: float64"
      ]
     },
     "execution_count": 1475,
     "metadata": {},
     "output_type": "execute_result"
    }
   ],
   "source": [
    "func = lambda h: np.sqrt(1525*(x+h)**2+8.41)*30\n",
    "func(data2.h)"
   ]
  },
  {
   "cell_type": "code",
   "execution_count": 1476,
   "id": "f4e41714",
   "metadata": {
    "scrolled": true
   },
   "outputs": [
    {
     "data": {
      "text/plain": [
       "-8.402027811081961"
      ]
     },
     "execution_count": 1476,
     "metadata": {},
     "output_type": "execute_result"
    }
   ],
   "source": [
    "1525*x**2 - 9.485373"
   ]
  },
  {
   "cell_type": "code",
   "execution_count": 1477,
   "id": "dfa36f98",
   "metadata": {
    "scrolled": true
   },
   "outputs": [
    {
     "data": {
      "text/plain": [
       "1.5123947500566284"
      ]
     },
     "execution_count": 1477,
     "metadata": {},
     "output_type": "execute_result"
    }
   ],
   "source": [
    "(m/(1/a/k-1))"
   ]
  },
  {
   "cell_type": "code",
   "execution_count": 1478,
   "id": "b3375fdf",
   "metadata": {},
   "outputs": [
    {
     "data": {
      "text/plain": [
       "0.002973659083168383"
      ]
     },
     "execution_count": 1478,
     "metadata": {},
     "output_type": "execute_result"
    }
   ],
   "source": [
    "k*(m/(1/a/k-1)+m)*data1.t2[0]-I0"
   ]
  }
 ],
 "metadata": {
  "kernelspec": {
   "display_name": "Python 3 (ipykernel)",
   "language": "python",
   "name": "python3"
  },
  "language_info": {
   "codemirror_mode": {
    "name": "ipython",
    "version": 3
   },
   "file_extension": ".py",
   "mimetype": "text/x-python",
   "name": "python",
   "nbconvert_exporter": "python",
   "pygments_lexer": "ipython3",
   "version": "3.10.8"
  }
 },
 "nbformat": 4,
 "nbformat_minor": 5
}
