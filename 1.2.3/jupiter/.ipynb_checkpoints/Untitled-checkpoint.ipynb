{
 "cells": [
  {
   "cell_type": "code",
   "execution_count": 2,
   "id": "dcbbf132",
   "metadata": {},
   "outputs": [
    {
     "name": "stdout",
     "output_type": "stream",
     "text": [
      "Set up\n"
     ]
    }
   ],
   "source": [
    "import pandas as pd\n",
    "import numpy as np\n",
    "import matplotlib.pyplot as plt\n",
    "from math import pi\n",
    "print(\"Set up\")"
   ]
  },
  {
   "cell_type": "code",
   "execution_count": 3,
   "id": "a2016a7f",
   "metadata": {},
   "outputs": [],
   "source": [
    "R = 114.6e-3\n",
    "R_err = 0.5e-3\n",
    "r = 30.2e-3\n",
    "r_err = 0.3e-3\n",
    "m = 956.7e-3\n",
    "m_err = 0.5e-3\n",
    "z0 = 2152e-3\n",
    "z0_err = 1.5e-3\n",
    "g = 9.8155\n",
    "g_err = 5e-4"
   ]
  },
  {
   "cell_type": "code",
   "execution_count": 4,
   "id": "f4f9c8a5",
   "metadata": {},
   "outputs": [],
   "source": [
    "def compute_k(R, r, m, z0, g):\n",
    "    return g*r*R/4/pi/pi/z0"
   ]
  },
  {
   "cell_type": "code",
   "execution_count": 5,
   "id": "5e40cc56",
   "metadata": {},
   "outputs": [
    {
     "data": {
      "text/plain": [
       "0.00039985449659095325"
      ]
     },
     "execution_count": 5,
     "metadata": {},
     "output_type": "execute_result"
    }
   ],
   "source": [
    "k = compute_k(R, r, m, z0, g)\n",
    "k"
   ]
  },
  {
   "cell_type": "code",
   "execution_count": 6,
   "id": "99bc1190",
   "metadata": {},
   "outputs": [
    {
     "data": {
      "text/plain": [
       "6.224683820464228e-06"
      ]
     },
     "execution_count": 6,
     "metadata": {},
     "output_type": "execute_result"
    }
   ],
   "source": [
    "k_err = k * (R_err/R + r_err/r + m_err/m + z0_err/z0 + g_err/g)\n",
    "k_err"
   ]
  },
  {
   "cell_type": "code",
   "execution_count": 25,
   "id": "296ce8c1",
   "metadata": {},
   "outputs": [],
   "source": [
    "m1 = 772.1e-3\n",
    "m2 = 584.7e-3"
   ]
  },
  {
   "cell_type": "code",
   "execution_count": 56,
   "id": "d62d3298",
   "metadata": {},
   "outputs": [],
   "source": [
    "d1 = 158.8e-3\n",
    "d2 = 170.4e-3\n",
    "d_err = 0.05e-3"
   ]
  },
  {
   "cell_type": "code",
   "execution_count": 119,
   "id": "79856468",
   "metadata": {},
   "outputs": [],
   "source": [
    "t0 = 122.622 / 30\n",
    "t1 = 120.560 / 30\n",
    "t2 = 110.816 / 30\n",
    "t3 = 113.214 / 30"
   ]
  },
  {
   "cell_type": "code",
   "execution_count": 120,
   "id": "105347c6",
   "metadata": {},
   "outputs": [],
   "source": [
    "def innertion_momento(t, m):\n",
    "    return k * m * t ** 2"
   ]
  },
  {
   "cell_type": "code",
   "execution_count": 121,
   "id": "67a1b583",
   "metadata": {},
   "outputs": [
    {
     "data": {
      "text/plain": [
       "0.0063910474127391636"
      ]
     },
     "execution_count": 121,
     "metadata": {},
     "output_type": "execute_result"
    }
   ],
   "source": [
    "I0 = innertion_momento(t0, m)\n",
    "I0"
   ]
  },
  {
   "cell_type": "code",
   "execution_count": 122,
   "id": "b375bee4",
   "metadata": {},
   "outputs": [
    {
     "data": {
      "text/plain": [
       "0.00010283196686122299"
      ]
     },
     "execution_count": 122,
     "metadata": {},
     "output_type": "execute_result"
    }
   ],
   "source": [
    "I0_err = I0 * (m_err/m + k_err/k)\n",
    "I0_err"
   ]
  },
  {
   "cell_type": "code",
   "execution_count": 123,
   "id": "f06927e1",
   "metadata": {},
   "outputs": [
    {
     "data": {
      "text/plain": [
       "0.011163765550375515"
      ]
     },
     "execution_count": 123,
     "metadata": {},
     "output_type": "execute_result"
    }
   ],
   "source": [
    "I1 = innertion_momento(t1, m+m1)\n",
    "I1"
   ]
  },
  {
   "cell_type": "code",
   "execution_count": 124,
   "id": "89b557da",
   "metadata": {},
   "outputs": [
    {
     "data": {
      "text/plain": [
       "0.0001810199764070392"
      ]
     },
     "execution_count": 124,
     "metadata": {},
     "output_type": "execute_result"
    }
   ],
   "source": [
    "I1_err = I1 * (m_err/m1 + k_err/k)\n",
    "I1_err"
   ]
  },
  {
   "cell_type": "code",
   "execution_count": 125,
   "id": "2856b5ba",
   "metadata": {},
   "outputs": [
    {
     "data": {
      "text/plain": [
       "0.00840968578236444"
      ]
     },
     "execution_count": 125,
     "metadata": {},
     "output_type": "execute_result"
    }
   ],
   "source": [
    "I2 = innertion_momento(t2, m+m2)\n",
    "I2"
   ]
  },
  {
   "cell_type": "code",
   "execution_count": 126,
   "id": "7562e196",
   "metadata": {},
   "outputs": [
    {
     "data": {
      "text/plain": [
       "0.00013810816318141143"
      ]
     },
     "execution_count": 126,
     "metadata": {},
     "output_type": "execute_result"
    }
   ],
   "source": [
    "I2_err = I2 * (m_err/m2 + k_err/k)\n",
    "I2_err"
   ]
  },
  {
   "cell_type": "code",
   "execution_count": 127,
   "id": "e69246f1",
   "metadata": {},
   "outputs": [
    {
     "data": {
      "text/plain": [
       "0.013125522826699362"
      ]
     },
     "execution_count": 127,
     "metadata": {},
     "output_type": "execute_result"
    }
   ],
   "source": [
    "I3 = innertion_momento(t3, m+m2+m1)\n",
    "I3"
   ]
  },
  {
   "cell_type": "code",
   "execution_count": 128,
   "id": "419798dc",
   "metadata": {},
   "outputs": [
    {
     "data": {
      "text/plain": [
       "0.00021555405223255218"
      ]
     },
     "execution_count": 128,
     "metadata": {},
     "output_type": "execute_result"
    }
   ],
   "source": [
    "I3_err = I3 * (m_err/m2 + k_err/k)\n",
    "I3_err"
   ]
  },
  {
   "cell_type": "code",
   "execution_count": 129,
   "id": "307b0fe4",
   "metadata": {},
   "outputs": [
    {
     "data": {
      "text/plain": [
       "0.0047727181376363515"
      ]
     },
     "execution_count": 129,
     "metadata": {},
     "output_type": "execute_result"
    }
   ],
   "source": [
    "Ic = I1-I0\n",
    "Ic"
   ]
  },
  {
   "cell_type": "code",
   "execution_count": 130,
   "id": "b1004c71",
   "metadata": {},
   "outputs": [
    {
     "data": {
      "text/plain": [
       "0.00028385194326826217"
      ]
     },
     "execution_count": 130,
     "metadata": {},
     "output_type": "execute_result"
    }
   ],
   "source": [
    "Ic_err = I1_err + I0_err\n",
    "Ic_err"
   ]
  },
  {
   "cell_type": "code",
   "execution_count": 131,
   "id": "204f36db",
   "metadata": {},
   "outputs": [
    {
     "data": {
      "text/plain": [
       "0.002018638369625277"
      ]
     },
     "execution_count": 131,
     "metadata": {},
     "output_type": "execute_result"
    }
   ],
   "source": [
    "Id = I2-I0\n",
    "Id"
   ]
  },
  {
   "cell_type": "code",
   "execution_count": 132,
   "id": "b5c38b07",
   "metadata": {},
   "outputs": [
    {
     "data": {
      "text/plain": [
       "0.0002409401300426344"
      ]
     },
     "execution_count": 132,
     "metadata": {},
     "output_type": "execute_result"
    }
   ],
   "source": [
    "Id_err = I2_err + I0_err\n",
    "Id_err"
   ]
  },
  {
   "cell_type": "code",
   "execution_count": 133,
   "id": "f008aac6",
   "metadata": {},
   "outputs": [
    {
     "data": {
      "text/plain": [
       "0.0048675963559999995"
      ]
     },
     "execution_count": 133,
     "metadata": {},
     "output_type": "execute_result"
    }
   ],
   "source": [
    "Ict = m1 * (d1/2)**2\n",
    "Ict"
   ]
  },
  {
   "cell_type": "code",
   "execution_count": 134,
   "id": "0f78f646",
   "metadata": {},
   "outputs": [
    {
     "data": {
      "text/plain": [
       "6.217417e-06"
      ]
     },
     "execution_count": 134,
     "metadata": {},
     "output_type": "execute_result"
    }
   ],
   "source": [
    "Ict_errt = Ict * (2 * d_err / d1 + m_err / m1)\n",
    "Ict_errt"
   ]
  },
  {
   "cell_type": "markdown",
   "id": "371253eb",
   "metadata": {},
   "source": [
    "=================================="
   ]
  },
  {
   "cell_type": "code",
   "execution_count": 135,
   "id": "57df9c22",
   "metadata": {},
   "outputs": [
    {
     "data": {
      "text/plain": [
       "0.019491800762546196"
      ]
     },
     "execution_count": 135,
     "metadata": {},
     "output_type": "execute_result"
    }
   ],
   "source": [
    "Ict_err = 1 - Ic/Ict\n",
    "Ict_err"
   ]
  },
  {
   "cell_type": "code",
   "execution_count": 136,
   "id": "9f661c8f",
   "metadata": {},
   "outputs": [
    {
     "data": {
      "text/plain": [
       "0.002122180344"
      ]
     },
     "execution_count": 136,
     "metadata": {},
     "output_type": "execute_result"
    }
   ],
   "source": [
    "Idt = m2 * (d2/2)**2 / 2\n",
    "Idt"
   ]
  },
  {
   "cell_type": "code",
   "execution_count": 137,
   "id": "fcd29445",
   "metadata": {},
   "outputs": [
    {
     "data": {
      "text/plain": [
       "3.0601709999999998e-06"
      ]
     },
     "execution_count": 137,
     "metadata": {},
     "output_type": "execute_result"
    }
   ],
   "source": [
    "Idt_errt = Idt * (2 * d_err / d2 + m_err / m2)\n",
    "Idt_errt"
   ]
  },
  {
   "cell_type": "markdown",
   "id": "275c4205",
   "metadata": {},
   "source": [
    "====================================="
   ]
  },
  {
   "cell_type": "code",
   "execution_count": 138,
   "id": "c323b1b0",
   "metadata": {},
   "outputs": [
    {
     "data": {
      "text/plain": [
       "0.0487903747989491"
      ]
     },
     "execution_count": 138,
     "metadata": {},
     "output_type": "execute_result"
    }
   ],
   "source": [
    "Idt_err = 1 - Id / Idt\n",
    "Idt_err"
   ]
  },
  {
   "cell_type": "code",
   "execution_count": 139,
   "id": "f45a51e0",
   "metadata": {},
   "outputs": [
    {
     "data": {
      "text/plain": [
       "0.006282247085999999"
      ]
     },
     "execution_count": 139,
     "metadata": {},
     "output_type": "execute_result"
    }
   ],
   "source": [
    "I0t = m * R**2/2\n",
    "I0t"
   ]
  },
  {
   "cell_type": "code",
   "execution_count": 144,
   "id": "873b4065",
   "metadata": {},
   "outputs": [
    {
     "data": {
      "text/plain": [
       "-0.017318695882182933"
      ]
     },
     "execution_count": 144,
     "metadata": {},
     "output_type": "execute_result"
    }
   ],
   "source": [
    "I0t_err = 1 - I0/I0t\n",
    "I0t_err"
   ]
  },
  {
   "cell_type": "code",
   "execution_count": 145,
   "id": "06a6ce61",
   "metadata": {},
   "outputs": [
    {
     "data": {
      "text/plain": [
       "0.006734475413960199"
      ]
     },
     "execution_count": 145,
     "metadata": {},
     "output_type": "execute_result"
    }
   ],
   "source": [
    "Icd = I3 - I0\n",
    "Icd"
   ]
  },
  {
   "cell_type": "code",
   "execution_count": 147,
   "id": "b35cc0a1",
   "metadata": {},
   "outputs": [
    {
     "data": {
      "text/plain": [
       "0.00031838601909377516"
      ]
     },
     "execution_count": 147,
     "metadata": {},
     "output_type": "execute_result"
    }
   ],
   "source": [
    "Icd_err = I3_err + I0_err\n",
    "Icd_err"
   ]
  },
  {
   "cell_type": "code",
   "execution_count": 149,
   "id": "ddad3045",
   "metadata": {},
   "outputs": [
    {
     "data": {
      "text/plain": [
       "0.006989776699999999"
      ]
     },
     "execution_count": 149,
     "metadata": {},
     "output_type": "execute_result"
    }
   ],
   "source": [
    "Icdt = Ict + Idt\n",
    "Icdt"
   ]
  },
  {
   "cell_type": "code",
   "execution_count": 151,
   "id": "e939247a",
   "metadata": {},
   "outputs": [
    {
     "data": {
      "text/plain": [
       "9.277588e-06"
      ]
     },
     "execution_count": 151,
     "metadata": {},
     "output_type": "execute_result"
    }
   ],
   "source": [
    "Icdt_errt = Ict_errt + Idt_errt\n",
    "Icdt_errt"
   ]
  },
  {
   "cell_type": "code",
   "execution_count": 153,
   "id": "fc287a64",
   "metadata": {},
   "outputs": [
    {
     "data": {
      "text/plain": [
       "0.036524955945989035"
      ]
     },
     "execution_count": 153,
     "metadata": {},
     "output_type": "execute_result"
    }
   ],
   "source": [
    "Icdt_err = 1 - Icd/Icdt\n",
    "Icdt_err"
   ]
  },
  {
   "cell_type": "code",
   "execution_count": 155,
   "id": "e1acc87a",
   "metadata": {},
   "outputs": [
    {
     "data": {
      "text/plain": [
       "0.006791356507261629"
      ]
     },
     "execution_count": 155,
     "metadata": {},
     "output_type": "execute_result"
    }
   ],
   "source": [
    "Icpd = Ic + Id\n",
    "Icpd"
   ]
  },
  {
   "cell_type": "code",
   "execution_count": 156,
   "id": "0f20f3f1",
   "metadata": {},
   "outputs": [
    {
     "data": {
      "text/plain": [
       "0.0005247920733108966"
      ]
     },
     "execution_count": 156,
     "metadata": {},
     "output_type": "execute_result"
    }
   ],
   "source": [
    "Icpd_err = Ic_err + Id_err\n",
    "Icpd_err"
   ]
  },
  {
   "cell_type": "code",
   "execution_count": 158,
   "id": "63348bc5",
   "metadata": {},
   "outputs": [
    {
     "data": {
      "text/plain": [
       "0.008375512791974682"
      ]
     },
     "execution_count": 158,
     "metadata": {},
     "output_type": "execute_result"
    }
   ],
   "source": [
    "1 - Icd/(Ic+Id)"
   ]
  },
  {
   "cell_type": "markdown",
   "id": "e54e58d1",
   "metadata": {},
   "source": [
    "# ========================"
   ]
  },
  {
   "cell_type": "code",
   "execution_count": 164,
   "id": "9493c88c",
   "metadata": {},
   "outputs": [
    {
     "data": {
      "text/html": [
       "<div>\n",
       "<style scoped>\n",
       "    .dataframe tbody tr th:only-of-type {\n",
       "        vertical-align: middle;\n",
       "    }\n",
       "\n",
       "    .dataframe tbody tr th {\n",
       "        vertical-align: top;\n",
       "    }\n",
       "\n",
       "    .dataframe thead th {\n",
       "        text-align: right;\n",
       "    }\n",
       "</style>\n",
       "<table border=\"1\" class=\"dataframe\">\n",
       "  <thead>\n",
       "    <tr style=\"text-align: right;\">\n",
       "      <th></th>\n",
       "      <th>h</th>\n",
       "      <th>t</th>\n",
       "    </tr>\n",
       "  </thead>\n",
       "  <tbody>\n",
       "    <tr>\n",
       "      <th>0</th>\n",
       "      <td>0.0</td>\n",
       "      <td>90.584</td>\n",
       "    </tr>\n",
       "    <tr>\n",
       "      <th>1</th>\n",
       "      <td>0.5</td>\n",
       "      <td>91.334</td>\n",
       "    </tr>\n",
       "    <tr>\n",
       "      <th>2</th>\n",
       "      <td>1.0</td>\n",
       "      <td>92.194</td>\n",
       "    </tr>\n",
       "    <tr>\n",
       "      <th>3</th>\n",
       "      <td>1.5</td>\n",
       "      <td>92.522</td>\n",
       "    </tr>\n",
       "    <tr>\n",
       "      <th>4</th>\n",
       "      <td>2.0</td>\n",
       "      <td>94.322</td>\n",
       "    </tr>\n",
       "    <tr>\n",
       "      <th>5</th>\n",
       "      <td>2.5</td>\n",
       "      <td>96.222</td>\n",
       "    </tr>\n",
       "    <tr>\n",
       "      <th>6</th>\n",
       "      <td>3.0</td>\n",
       "      <td>97.714</td>\n",
       "    </tr>\n",
       "    <tr>\n",
       "      <th>7</th>\n",
       "      <td>3.5</td>\n",
       "      <td>100.426</td>\n",
       "    </tr>\n",
       "    <tr>\n",
       "      <th>8</th>\n",
       "      <td>4.0</td>\n",
       "      <td>102.210</td>\n",
       "    </tr>\n",
       "    <tr>\n",
       "      <th>9</th>\n",
       "      <td>4.5</td>\n",
       "      <td>104.330</td>\n",
       "    </tr>\n",
       "    <tr>\n",
       "      <th>10</th>\n",
       "      <td>5.0</td>\n",
       "      <td>108.090</td>\n",
       "    </tr>\n",
       "    <tr>\n",
       "      <th>11</th>\n",
       "      <td>5.5</td>\n",
       "      <td>111.460</td>\n",
       "    </tr>\n",
       "    <tr>\n",
       "      <th>12</th>\n",
       "      <td>6.0</td>\n",
       "      <td>114.030</td>\n",
       "    </tr>\n",
       "    <tr>\n",
       "      <th>13</th>\n",
       "      <td>6.5</td>\n",
       "      <td>117.676</td>\n",
       "    </tr>\n",
       "    <tr>\n",
       "      <th>14</th>\n",
       "      <td>7.0</td>\n",
       "      <td>121.440</td>\n",
       "    </tr>\n",
       "    <tr>\n",
       "      <th>15</th>\n",
       "      <td>7.5</td>\n",
       "      <td>125.808</td>\n",
       "    </tr>\n",
       "  </tbody>\n",
       "</table>\n",
       "</div>"
      ],
      "text/plain": [
       "      h        t\n",
       "0   0.0   90.584\n",
       "1   0.5   91.334\n",
       "2   1.0   92.194\n",
       "3   1.5   92.522\n",
       "4   2.0   94.322\n",
       "5   2.5   96.222\n",
       "6   3.0   97.714\n",
       "7   3.5  100.426\n",
       "8   4.0  102.210\n",
       "9   4.5  104.330\n",
       "10  5.0  108.090\n",
       "11  5.5  111.460\n",
       "12  6.0  114.030\n",
       "13  6.5  117.676\n",
       "14  7.0  121.440\n",
       "15  7.5  125.808"
      ]
     },
     "execution_count": 164,
     "metadata": {},
     "output_type": "execute_result"
    }
   ],
   "source": [
    "data1 = pd.read_csv(\"../data/data1.csv\")\n",
    "data1"
   ]
  },
  {
   "cell_type": "code",
   "execution_count": 167,
   "id": "7016a02b",
   "metadata": {},
   "outputs": [
    {
     "data": {
      "text/html": [
       "<div>\n",
       "<style scoped>\n",
       "    .dataframe tbody tr th:only-of-type {\n",
       "        vertical-align: middle;\n",
       "    }\n",
       "\n",
       "    .dataframe tbody tr th {\n",
       "        vertical-align: top;\n",
       "    }\n",
       "\n",
       "    .dataframe thead th {\n",
       "        text-align: right;\n",
       "    }\n",
       "</style>\n",
       "<table border=\"1\" class=\"dataframe\">\n",
       "  <thead>\n",
       "    <tr style=\"text-align: right;\">\n",
       "      <th></th>\n",
       "      <th>h</th>\n",
       "      <th>t</th>\n",
       "    </tr>\n",
       "  </thead>\n",
       "  <tbody>\n",
       "    <tr>\n",
       "      <th>0</th>\n",
       "      <td>0.0</td>\n",
       "      <td>91.128</td>\n",
       "    </tr>\n",
       "    <tr>\n",
       "      <th>1</th>\n",
       "      <td>0.5</td>\n",
       "      <td>93.358</td>\n",
       "    </tr>\n",
       "    <tr>\n",
       "      <th>2</th>\n",
       "      <td>1.0</td>\n",
       "      <td>94.802</td>\n",
       "    </tr>\n",
       "    <tr>\n",
       "      <th>3</th>\n",
       "      <td>1.5</td>\n",
       "      <td>99.492</td>\n",
       "    </tr>\n",
       "    <tr>\n",
       "      <th>4</th>\n",
       "      <td>2.0</td>\n",
       "      <td>102.212</td>\n",
       "    </tr>\n",
       "    <tr>\n",
       "      <th>5</th>\n",
       "      <td>2.5</td>\n",
       "      <td>105.396</td>\n",
       "    </tr>\n",
       "    <tr>\n",
       "      <th>6</th>\n",
       "      <td>3.0</td>\n",
       "      <td>108.356</td>\n",
       "    </tr>\n",
       "    <tr>\n",
       "      <th>7</th>\n",
       "      <td>3.5</td>\n",
       "      <td>112.060</td>\n",
       "    </tr>\n",
       "    <tr>\n",
       "      <th>8</th>\n",
       "      <td>4.0</td>\n",
       "      <td>114.144</td>\n",
       "    </tr>\n",
       "    <tr>\n",
       "      <th>9</th>\n",
       "      <td>4.5</td>\n",
       "      <td>117.726</td>\n",
       "    </tr>\n",
       "    <tr>\n",
       "      <th>10</th>\n",
       "      <td>5.0</td>\n",
       "      <td>121.320</td>\n",
       "    </tr>\n",
       "    <tr>\n",
       "      <th>11</th>\n",
       "      <td>5.5</td>\n",
       "      <td>125.928</td>\n",
       "    </tr>\n",
       "    <tr>\n",
       "      <th>12</th>\n",
       "      <td>6.0</td>\n",
       "      <td>130.386</td>\n",
       "    </tr>\n",
       "    <tr>\n",
       "      <th>13</th>\n",
       "      <td>6.5</td>\n",
       "      <td>134.350</td>\n",
       "    </tr>\n",
       "  </tbody>\n",
       "</table>\n",
       "</div>"
      ],
      "text/plain": [
       "      h        t\n",
       "0   0.0   91.128\n",
       "1   0.5   93.358\n",
       "2   1.0   94.802\n",
       "3   1.5   99.492\n",
       "4   2.0  102.212\n",
       "5   2.5  105.396\n",
       "6   3.0  108.356\n",
       "7   3.5  112.060\n",
       "8   4.0  114.144\n",
       "9   4.5  117.726\n",
       "10  5.0  121.320\n",
       "11  5.5  125.928\n",
       "12  6.0  130.386\n",
       "13  6.5  134.350"
      ]
     },
     "execution_count": 167,
     "metadata": {},
     "output_type": "execute_result"
    }
   ],
   "source": [
    "data2 = pd.read_csv(\"../data/data2.csv\")\n",
    "data2"
   ]
  },
  {
   "cell_type": "code",
   "execution_count": 165,
   "id": "69d2f161",
   "metadata": {},
   "outputs": [
    {
     "data": {
      "text/html": [
       "<div>\n",
       "<style scoped>\n",
       "    .dataframe tbody tr th:only-of-type {\n",
       "        vertical-align: middle;\n",
       "    }\n",
       "\n",
       "    .dataframe tbody tr th {\n",
       "        vertical-align: top;\n",
       "    }\n",
       "\n",
       "    .dataframe thead th {\n",
       "        text-align: right;\n",
       "    }\n",
       "</style>\n",
       "<table border=\"1\" class=\"dataframe\">\n",
       "  <thead>\n",
       "    <tr style=\"text-align: right;\">\n",
       "      <th></th>\n",
       "      <th>h</th>\n",
       "      <th>t</th>\n",
       "      <th>h2</th>\n",
       "      <th>t2</th>\n",
       "    </tr>\n",
       "  </thead>\n",
       "  <tbody>\n",
       "    <tr>\n",
       "      <th>0</th>\n",
       "      <td>0.000</td>\n",
       "      <td>3.019467</td>\n",
       "      <td>0.000000</td>\n",
       "      <td>9.117179</td>\n",
       "    </tr>\n",
       "    <tr>\n",
       "      <th>1</th>\n",
       "      <td>0.005</td>\n",
       "      <td>3.044467</td>\n",
       "      <td>0.000025</td>\n",
       "      <td>9.268777</td>\n",
       "    </tr>\n",
       "    <tr>\n",
       "      <th>2</th>\n",
       "      <td>0.010</td>\n",
       "      <td>3.073133</td>\n",
       "      <td>0.000100</td>\n",
       "      <td>9.444148</td>\n",
       "    </tr>\n",
       "    <tr>\n",
       "      <th>3</th>\n",
       "      <td>0.015</td>\n",
       "      <td>3.084067</td>\n",
       "      <td>0.000225</td>\n",
       "      <td>9.511467</td>\n",
       "    </tr>\n",
       "    <tr>\n",
       "      <th>4</th>\n",
       "      <td>0.020</td>\n",
       "      <td>3.144067</td>\n",
       "      <td>0.000400</td>\n",
       "      <td>9.885155</td>\n",
       "    </tr>\n",
       "    <tr>\n",
       "      <th>5</th>\n",
       "      <td>0.025</td>\n",
       "      <td>3.207400</td>\n",
       "      <td>0.000625</td>\n",
       "      <td>10.287415</td>\n",
       "    </tr>\n",
       "    <tr>\n",
       "      <th>6</th>\n",
       "      <td>0.030</td>\n",
       "      <td>3.257133</td>\n",
       "      <td>0.000900</td>\n",
       "      <td>10.608918</td>\n",
       "    </tr>\n",
       "    <tr>\n",
       "      <th>7</th>\n",
       "      <td>0.035</td>\n",
       "      <td>3.347533</td>\n",
       "      <td>0.001225</td>\n",
       "      <td>11.205979</td>\n",
       "    </tr>\n",
       "    <tr>\n",
       "      <th>8</th>\n",
       "      <td>0.040</td>\n",
       "      <td>3.407000</td>\n",
       "      <td>0.001600</td>\n",
       "      <td>11.607649</td>\n",
       "    </tr>\n",
       "    <tr>\n",
       "      <th>9</th>\n",
       "      <td>0.045</td>\n",
       "      <td>3.477667</td>\n",
       "      <td>0.002025</td>\n",
       "      <td>12.094165</td>\n",
       "    </tr>\n",
       "    <tr>\n",
       "      <th>10</th>\n",
       "      <td>0.050</td>\n",
       "      <td>3.603000</td>\n",
       "      <td>0.002500</td>\n",
       "      <td>12.981609</td>\n",
       "    </tr>\n",
       "    <tr>\n",
       "      <th>11</th>\n",
       "      <td>0.055</td>\n",
       "      <td>3.715333</td>\n",
       "      <td>0.003025</td>\n",
       "      <td>13.803702</td>\n",
       "    </tr>\n",
       "    <tr>\n",
       "      <th>12</th>\n",
       "      <td>0.060</td>\n",
       "      <td>3.801000</td>\n",
       "      <td>0.003600</td>\n",
       "      <td>14.447601</td>\n",
       "    </tr>\n",
       "    <tr>\n",
       "      <th>13</th>\n",
       "      <td>0.065</td>\n",
       "      <td>3.922533</td>\n",
       "      <td>0.004225</td>\n",
       "      <td>15.386268</td>\n",
       "    </tr>\n",
       "    <tr>\n",
       "      <th>14</th>\n",
       "      <td>0.070</td>\n",
       "      <td>4.048000</td>\n",
       "      <td>0.004900</td>\n",
       "      <td>16.386304</td>\n",
       "    </tr>\n",
       "    <tr>\n",
       "      <th>15</th>\n",
       "      <td>0.075</td>\n",
       "      <td>4.193600</td>\n",
       "      <td>0.005625</td>\n",
       "      <td>17.586281</td>\n",
       "    </tr>\n",
       "  </tbody>\n",
       "</table>\n",
       "</div>"
      ],
      "text/plain": [
       "        h         t        h2         t2\n",
       "0   0.000  3.019467  0.000000   9.117179\n",
       "1   0.005  3.044467  0.000025   9.268777\n",
       "2   0.010  3.073133  0.000100   9.444148\n",
       "3   0.015  3.084067  0.000225   9.511467\n",
       "4   0.020  3.144067  0.000400   9.885155\n",
       "5   0.025  3.207400  0.000625  10.287415\n",
       "6   0.030  3.257133  0.000900  10.608918\n",
       "7   0.035  3.347533  0.001225  11.205979\n",
       "8   0.040  3.407000  0.001600  11.607649\n",
       "9   0.045  3.477667  0.002025  12.094165\n",
       "10  0.050  3.603000  0.002500  12.981609\n",
       "11  0.055  3.715333  0.003025  13.803702\n",
       "12  0.060  3.801000  0.003600  14.447601\n",
       "13  0.065  3.922533  0.004225  15.386268\n",
       "14  0.070  4.048000  0.004900  16.386304\n",
       "15  0.075  4.193600  0.005625  17.586281"
      ]
     },
     "execution_count": 165,
     "metadata": {},
     "output_type": "execute_result"
    }
   ],
   "source": [
    "data1[\"h\"] = data1[\"h\"]/100\n",
    "data1[\"t\"] = data1[\"t\"]/30\n",
    "data1[\"h2\"] = data1[\"h\"]**2\n",
    "data1[\"t2\"] = data1[\"t\"]**2\n",
    "data1"
   ]
  },
  {
   "cell_type": "code",
   "execution_count": 168,
   "id": "6969a7d5",
   "metadata": {},
   "outputs": [
    {
     "data": {
      "text/html": [
       "<div>\n",
       "<style scoped>\n",
       "    .dataframe tbody tr th:only-of-type {\n",
       "        vertical-align: middle;\n",
       "    }\n",
       "\n",
       "    .dataframe tbody tr th {\n",
       "        vertical-align: top;\n",
       "    }\n",
       "\n",
       "    .dataframe thead th {\n",
       "        text-align: right;\n",
       "    }\n",
       "</style>\n",
       "<table border=\"1\" class=\"dataframe\">\n",
       "  <thead>\n",
       "    <tr style=\"text-align: right;\">\n",
       "      <th></th>\n",
       "      <th>h</th>\n",
       "      <th>t</th>\n",
       "      <th>h2</th>\n",
       "      <th>t2</th>\n",
       "    </tr>\n",
       "  </thead>\n",
       "  <tbody>\n",
       "    <tr>\n",
       "      <th>0</th>\n",
       "      <td>0.000</td>\n",
       "      <td>3.037600</td>\n",
       "      <td>0.000000</td>\n",
       "      <td>9.227014</td>\n",
       "    </tr>\n",
       "    <tr>\n",
       "      <th>1</th>\n",
       "      <td>0.005</td>\n",
       "      <td>3.111933</td>\n",
       "      <td>0.000025</td>\n",
       "      <td>9.684129</td>\n",
       "    </tr>\n",
       "    <tr>\n",
       "      <th>2</th>\n",
       "      <td>0.010</td>\n",
       "      <td>3.160067</td>\n",
       "      <td>0.000100</td>\n",
       "      <td>9.986021</td>\n",
       "    </tr>\n",
       "    <tr>\n",
       "      <th>3</th>\n",
       "      <td>0.015</td>\n",
       "      <td>3.316400</td>\n",
       "      <td>0.000225</td>\n",
       "      <td>10.998509</td>\n",
       "    </tr>\n",
       "    <tr>\n",
       "      <th>4</th>\n",
       "      <td>0.020</td>\n",
       "      <td>3.407067</td>\n",
       "      <td>0.000400</td>\n",
       "      <td>11.608103</td>\n",
       "    </tr>\n",
       "    <tr>\n",
       "      <th>5</th>\n",
       "      <td>0.025</td>\n",
       "      <td>3.513200</td>\n",
       "      <td>0.000625</td>\n",
       "      <td>12.342574</td>\n",
       "    </tr>\n",
       "    <tr>\n",
       "      <th>6</th>\n",
       "      <td>0.030</td>\n",
       "      <td>3.611867</td>\n",
       "      <td>0.000900</td>\n",
       "      <td>13.045581</td>\n",
       "    </tr>\n",
       "    <tr>\n",
       "      <th>7</th>\n",
       "      <td>0.035</td>\n",
       "      <td>3.735333</td>\n",
       "      <td>0.001225</td>\n",
       "      <td>13.952715</td>\n",
       "    </tr>\n",
       "    <tr>\n",
       "      <th>8</th>\n",
       "      <td>0.040</td>\n",
       "      <td>3.804800</td>\n",
       "      <td>0.001600</td>\n",
       "      <td>14.476503</td>\n",
       "    </tr>\n",
       "    <tr>\n",
       "      <th>9</th>\n",
       "      <td>0.045</td>\n",
       "      <td>3.924200</td>\n",
       "      <td>0.002025</td>\n",
       "      <td>15.399346</td>\n",
       "    </tr>\n",
       "    <tr>\n",
       "      <th>10</th>\n",
       "      <td>0.050</td>\n",
       "      <td>4.044000</td>\n",
       "      <td>0.002500</td>\n",
       "      <td>16.353936</td>\n",
       "    </tr>\n",
       "    <tr>\n",
       "      <th>11</th>\n",
       "      <td>0.055</td>\n",
       "      <td>4.197600</td>\n",
       "      <td>0.003025</td>\n",
       "      <td>17.619846</td>\n",
       "    </tr>\n",
       "    <tr>\n",
       "      <th>12</th>\n",
       "      <td>0.060</td>\n",
       "      <td>4.346200</td>\n",
       "      <td>0.003600</td>\n",
       "      <td>18.889454</td>\n",
       "    </tr>\n",
       "    <tr>\n",
       "      <th>13</th>\n",
       "      <td>0.065</td>\n",
       "      <td>4.478333</td>\n",
       "      <td>0.004225</td>\n",
       "      <td>20.055469</td>\n",
       "    </tr>\n",
       "  </tbody>\n",
       "</table>\n",
       "</div>"
      ],
      "text/plain": [
       "        h         t        h2         t2\n",
       "0   0.000  3.037600  0.000000   9.227014\n",
       "1   0.005  3.111933  0.000025   9.684129\n",
       "2   0.010  3.160067  0.000100   9.986021\n",
       "3   0.015  3.316400  0.000225  10.998509\n",
       "4   0.020  3.407067  0.000400  11.608103\n",
       "5   0.025  3.513200  0.000625  12.342574\n",
       "6   0.030  3.611867  0.000900  13.045581\n",
       "7   0.035  3.735333  0.001225  13.952715\n",
       "8   0.040  3.804800  0.001600  14.476503\n",
       "9   0.045  3.924200  0.002025  15.399346\n",
       "10  0.050  4.044000  0.002500  16.353936\n",
       "11  0.055  4.197600  0.003025  17.619846\n",
       "12  0.060  4.346200  0.003600  18.889454\n",
       "13  0.065  4.478333  0.004225  20.055469"
      ]
     },
     "execution_count": 168,
     "metadata": {},
     "output_type": "execute_result"
    }
   ],
   "source": [
    "data2[\"h\"] = data2[\"h\"]/100\n",
    "data2[\"t\"] = data2[\"t\"]/30\n",
    "data2[\"h2\"] = data2[\"h\"]**2\n",
    "data2[\"t2\"] = data2[\"t\"]**2\n",
    "data2"
   ]
  },
  {
   "cell_type": "code",
   "execution_count": 172,
   "id": "2419e5c5",
   "metadata": {},
   "outputs": [
    {
     "data": {
      "text/plain": [
       "[<matplotlib.lines.Line2D at 0x7f84586a90c0>]"
      ]
     },
     "execution_count": 172,
     "metadata": {},
     "output_type": "execute_result"
    },
    {
     "data": {
      "image/png": "[encoded data removed]",
      "text/plain": [
       "<Figure size 640x480 with 1 Axes>"
      ]
     },
     "metadata": {},
     "output_type": "display_data"
    }
   ],
   "source": [
    "plt.plot(data1[\"h2\"], data1[\"t2\"], \".\")"
   ]
  },
  {
   "cell_type": "code",
   "execution_count": 176,
   "id": "8b02f5da",
   "metadata": {},
   "outputs": [],
   "source": [
    "a, b = np.polyfit(data1[\"h2\"], data1[\"t2\"], 1)"
   ]
  },
  {
   "cell_type": "code",
   "execution_count": 180,
   "id": "cd88b4e3",
   "metadata": {},
   "outputs": [
    {
     "data": {
      "text/plain": [
       "0.13319046348526342"
      ]
     },
     "execution_count": 180,
     "metadata": {},
     "output_type": "execute_result"
    }
   ],
   "source": [
    "1.5363/(m/(1/a/k-1)) - 1"
   ]
  }
 ],
 "metadata": {
  "kernelspec": {
   "display_name": "Python 3 (ipykernel)",
   "language": "python",
   "name": "python3"
  },
  "language_info": {
   "codemirror_mode": {
    "name": "ipython",
    "version": 3
   },
   "file_extension": ".py",
   "mimetype": "text/x-python",
   "name": "python",
   "nbconvert_exporter": "python",
   "pygments_lexer": "ipython3",
   "version": "3.10.8"
  }
 },
 "nbformat": 4,
 "nbformat_minor": 5
}
