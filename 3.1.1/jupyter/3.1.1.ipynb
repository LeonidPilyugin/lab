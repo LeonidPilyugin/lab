{
 "cells": [
  {
   "cell_type": "markdown",
   "id": "733ffe17",
   "metadata": {},
   "source": [
    "# Import"
   ]
  },
  {
   "cell_type": "code",
   "execution_count": 1,
   "id": "71b61c91",
   "metadata": {},
   "outputs": [
    {
     "name": "stdout",
     "output_type": "stream",
     "text": [
      "Import done!\n"
     ]
    }
   ],
   "source": [
    "import lab\n",
    "import lab.plot\n",
    "import lab.data\n",
    "import lab.mmath as mmath\n",
    "import lab.utils as utils\n",
    "import lab.arr as arr\n",
    "import lab.linfit as lf\n",
    "import lab.constants as const\n",
    "import lab.utils as utils\n",
    "from lab.unit import unit as u\n",
    "from uncertainties import ufloat\n",
    "import matplotlib.pyplot as plt\n",
    "print(\"Import done!\")"
   ]
  },
  {
   "cell_type": "markdown",
   "id": "9307fa75",
   "metadata": {},
   "source": [
    "# Read data"
   ]
  },
  {
   "cell_type": "markdown",
   "id": "1f107763",
   "metadata": {},
   "source": [
    "# Add values"
   ]
  },
  {
   "cell_type": "code",
   "execution_count": 11,
   "id": "1af5924a",
   "metadata": {},
   "outputs": [],
   "source": [
    "m = ufloat(5.88, 0.0005) * u(\"gram\")\n",
    "L = ufloat(122, 0.5) * u(\"cm\")\n",
    "T = ufloat(227.68 / 20, 0.5) * u(\"s\")\n",
    "l = ufloat(4, 0.01) * u(\"cm\")\n",
    "r = ufloat(2.5, 0.1) * u(\"mm\")\n",
    "R = ufloat(20, 0.5) * u(\"cm\")\n",
    "x1 = ufloat(14.5, 1) * u(\"cm\")"
   ]
  },
  {
   "cell_type": "markdown",
   "id": "93e5f68f",
   "metadata": {},
   "source": [
    "# Compute"
   ]
  },
  {
   "cell_type": "code",
   "execution_count": 47,
   "id": "2fffdde7-c990-4989-981f-7463753c1223",
   "metadata": {},
   "outputs": [
    {
     "data": {
      "text/html": [
       "(7.1+/-0.5)e-06 tesla"
      ],
      "text/latex": [
       "$(7.1+/-0.5)e-06\\ \\mathrm{tesla}$"
      ],
      "text/plain": [
       "7.129167698438159e-06+/-4.800906815796977e-07 <Unit('tesla')>"
      ]
     },
     "execution_count": 47,
     "metadata": {},
     "output_type": "execute_result"
    }
   ],
   "source": [
    "B0 = 2 * const.pi / T / R * mmath._sqrt(const.mu0 * m * (l ** 2 / 12 + r ** 2 / 4) * L / 2 / const.pi / R / x1)\n",
    "B0.ito(u(\"tesla\"))\n",
    "B0"
   ]
  },
  {
   "cell_type": "code",
   "execution_count": 48,
   "id": "2cde8e8b-c0c4-4bec-bd90-53afeabe0f36",
   "metadata": {},
   "outputs": [],
   "source": [
    "x21 = ufloat(22.5, 1) * u(\"cm\")\n",
    "x22 = ufloat(26, 1) * u(\"cm\")"
   ]
  },
  {
   "cell_type": "code",
   "execution_count": 49,
   "id": "505028ce-89e0-4bfb-b2c0-1da4314aadd8",
   "metadata": {},
   "outputs": [
    {
     "data": {
      "text/plain": [
       "(0.009511718059312634+/-0.0006898599954795083 <Unit('ampere')>,\n",
       " 0.010991318646316823+/-0.000758655992489332 <Unit('ampere')>)"
      ]
     },
     "execution_count": 49,
     "metadata": {},
     "output_type": "execute_result"
    }
   ],
   "source": [
    "I1 = 2 * B0 * R / const.mu0 / 44 * x21 / L\n",
    "I2 = 2 * B0 * R / const.mu0 / 44 * x22 / L\n",
    "I1.ito(u(\"A\"))\n",
    "I2.ito(u(\"A\"))\n",
    "I1, I2"
   ]
  },
  {
   "cell_type": "code",
   "execution_count": 50,
   "id": "34c70702-55b8-4674-bdf7-03e65c1a6cf7",
   "metadata": {},
   "outputs": [
    {
     "data": {
      "text/html": [
       "(1.32+/-0.09)e+10 centimeter/second"
      ],
      "text/latex": [
       "$(1.32+/-0.09)e+10\\ \\frac{\\mathrm{centimeter}}{\\mathrm{second}}$"
      ],
      "text/plain": [
       "13168780989.689539+/-886833274.820101 <Unit('centimeter / second')>"
      ]
     },
     "execution_count": 50,
     "metadata": {},
     "output_type": "execute_result"
    }
   ],
   "source": [
    "Iabs = ufloat(135e6, 135e6 * 0.02) / 10\n",
    "c= 10 * (Iabs / (I1 + I2) * 2).m * u(\"cm/s\")\n",
    "c"
   ]
  },
  {
   "cell_type": "code",
   "execution_count": 51,
   "id": "a672e4ab-29bf-43a5-9f7f-b04e8ef206c8",
   "metadata": {},
   "outputs": [
    {
     "name": "stdout",
     "output_type": "stream",
     "text": [
      "\\left(58800 \\pm 5\\right)\\cdot 10^{-4}\\;\\text{г}\n",
      "122{,}0 \\pm 0{,}5\\;\\text{см}\n",
      "11{,}4 \\pm 0{,}5\\;\\text{с}\n",
      "4{,}000 \\pm 0{,}010\\;\\text{см}\n",
      "2{,}50 \\pm 0{,}10\\;\\text{мм}\n",
      "20{,}0 \\pm 0{,}5\\;\\text{см}\n",
      "14{,}5 \\pm 1{,}0\\;\\text{см}\n",
      "\\left(95 \\pm 7\\right)\\cdot 10^{-4}\\;\\text{А}\n",
      "\\left(110 \\pm 8\\right)\\cdot 10^{-4}\\;\\text{А}\n",
      "\\left(135 \\pm 3\\right)\\cdot 10^{5}\\;\n",
      "\\left(132 \\pm 9\\right)\\cdot 10^{8}\\;\\text{см} / \\text{с}\n",
      "\\left(71 \\pm 5\\right)\\cdot 10^{-7}\\;\\text{Тл}\n"
     ]
    }
   ],
   "source": [
    "utils.totex(m)\n",
    "utils.totex(L)\n",
    "utils.totex(T)\n",
    "utils.totex(l)\n",
    "utils.totex(r)\n",
    "utils.totex(R)\n",
    "utils.totex(x1)\n",
    "utils.totex(I1)\n",
    "utils.totex(I2)\n",
    "utils.totex(Iabs * u(\"dimensionless\"))\n",
    "utils.totex(c)\n",
    "utils.totex(B0)"
   ]
  }
 ],
 "metadata": {
  "kernelspec": {
   "display_name": "lab",
   "language": "python",
   "name": "lab"
  },
  "language_info": {
   "codemirror_mode": {
    "name": "ipython",
    "version": 3
   },
   "file_extension": ".py",
   "mimetype": "text/x-python",
   "name": "python",
   "nbconvert_exporter": "python",
   "pygments_lexer": "ipython3",
   "version": "3.10.9"
  }
 },
 "nbformat": 4,
 "nbformat_minor": 5
}
